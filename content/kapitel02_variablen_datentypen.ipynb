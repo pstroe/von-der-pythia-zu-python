{
 "cells": [
  {
   "cell_type": "markdown",
   "id": "ef21fde1",
   "metadata": {},
   "source": [
    "\n",
    "# Kapitel 2 – Variablen und Datentypen (Begleitnotebook zum Video)\n",
    "\n",
    "**Hinweis:** Dieses Notebook nutzt **andere Beispiele** als das Skript. Keine Daten werden extern geladen. Alle Beispiele sind **synthetisch**, aber historisch inspiriert (Inschriften, Meilensteine, Amphoren).\n",
    "\n",
    "## Lernziele\n",
    "- Variablen verstehen, anlegen, ausgeben und überschreiben\n",
    "- Datentypen **Integer**, **Float**, **String**, **Boolean** unterscheiden und anwenden\n",
    "- Häufige Built-ins: `print`, `type`, `len`, `int`, `float`, `str`, `round`, `bool`\n",
    "- F-Strings für komfortable Ausgabe\n",
    "\n",
    "---\n",
    "\n",
    "### Video-Anker (Platzhalter)\n",
    "- 00:00–03:00: Was ist eine Variable?\n",
    "- 03:00–07:00: Datentypen im Überblick\n",
    "- 07:00–12:00: Mutationen (Überschreiben) und Namensräume\n",
    "- 12:00–18:00: Strings, Konkatenation, f-Strings\n",
    "- 18:00–22:00: Typkonvertierung & `bool()`\n",
    "- 22:00–25:00: Mini-Aufgaben\n"
   ]
  },
  {
   "cell_type": "markdown",
   "id": "ca39f79e",
   "metadata": {},
   "source": [
    "## Setup"
   ]
  },
  {
   "cell_type": "code",
   "execution_count": null,
   "id": "13b7d35b",
   "metadata": {},
   "outputs": [],
   "source": [
    "# In diesem Notebook brauchen wir keine externen Libraries.\n",
    "# Wir definieren nur ein paar Hilfsfunktionen für hübsche Überschriften.\n",
    "def headline(txt):\n",
    "    print(\"\\n\" + \"=\"*len(txt))\n",
    "    print(txt)\n",
    "    print(\"=\"*len(txt))"
   ]
  },
  {
   "cell_type": "markdown",
   "id": "1bbd9d81",
   "metadata": {},
   "source": [
    "\n",
    "## 1. Variablen definieren\n",
    "\n",
    "Wir arbeiten **nicht** mit dem Wales-Münzdatensatz. Stattdessen:\n",
    "- **Meilenstein** (römische Meile ≈ 1.48 km) mit Jahr und Standort\n",
    "- **Inschrift** mit CIL-Kennung und Fundort\n",
    "- **Amphore** mit Fassungsvermögen (Liter)\n"
   ]
  },
  {
   "cell_type": "code",
   "execution_count": null,
   "id": "718a0534",
   "metadata": {},
   "outputs": [],
   "source": [
    "# Beispiel: Meilenstein (synthetische Werte)\n",
    "milestone_year_from = 161         # Integer\n",
    "milestone_year_to = 169           # Integer\n",
    "milestone_road_name = \"Via Claudia Augusta\"  # String\n",
    "\n",
    "# Beispiel: Inschrift\n",
    "cil_id = \"CIL XIII 11702\"         # String (z. B. Region Gallia Belgica)\n",
    "insc_site = \"Augusta Treverorum\"  # String\n",
    "\n",
    "# Beispiel: Amphore\n",
    "amphora_type = \"Dressel 20\"       # String\n",
    "amphora_capacity_l = 26.5         # Float (synthetischer Durchschnittswert)\n",
    "\n",
    "print(\"Variablen definiert.\")"
   ]
  },
  {
   "cell_type": "markdown",
   "id": "d6829618",
   "metadata": {},
   "source": [
    "## 2. Variablen ausgeben & Typ prüfen"
   ]
  },
  {
   "cell_type": "code",
   "execution_count": null,
   "id": "d2f2e42d",
   "metadata": {},
   "outputs": [],
   "source": [
    "print(milestone_year_from)\n",
    "print(cil_id)\n",
    "print(amphora_capacity_l)\n",
    "\n",
    "print(type(milestone_year_from))\n",
    "print(type(cil_id))\n",
    "print(type(amphora_capacity_l))"
   ]
  },
  {
   "cell_type": "markdown",
   "id": "42f02e88",
   "metadata": {},
   "source": [
    "\n",
    "## 3. Kurzer Blick auf Namensräume (praktisch)\n",
    "\n",
    "Wir nutzen hier nur den **aktuellen** (Notebook-)Kontext. Wichtig:\n",
    "- Variablen sind verfügbar, **nachdem** die Zelle ausgeführt wurde.\n",
    "- Nach einem Kernel-Neustart sind alle Variablen weg – Zellen erneut ausführen.\n"
   ]
  },
  {
   "cell_type": "markdown",
   "id": "63d243e9",
   "metadata": {},
   "source": [
    "## 4. Mutationen (Überschreiben)"
   ]
  },
  {
   "cell_type": "code",
   "execution_count": null,
   "id": "caf74e3c",
   "metadata": {},
   "outputs": [],
   "source": [
    "headline(\"Vor dem Überschreiben\")\n",
    "print(\"milestone_year_from:\", milestone_year_from)\n",
    "print(\"milestone_year_to  :\", milestone_year_to)\n",
    "\n",
    "# Wir setzen 'milestone_year_to' gleich 'milestone_year_from'\n",
    "milestone_year_to = milestone_year_from\n",
    "\n",
    "headline(\"Nach dem Gleichsetzen\")\n",
    "print(\"milestone_year_from:\", milestone_year_from)\n",
    "print(\"milestone_year_to  :\", milestone_year_to)\n",
    "\n",
    "# Jetzt überschreiben wir 'milestone_year_from'\n",
    "milestone_year_from = 162\n",
    "\n",
    "headline(\"Nach dem Überschreiben von milestone_year_from\")\n",
    "print(\"milestone_year_from:\", milestone_year_from)\n",
    "print(\"milestone_year_to  :\", milestone_year_to)  # bleibt unverändert"
   ]
  },
  {
   "cell_type": "markdown",
   "id": "e93e685f",
   "metadata": {},
   "source": [
    "\n",
    "## 5. Integer: Rechnen mit Zählwerten\n",
    "\n",
    "Historisch inspirierter Mini-Fall: In einer Grabungssaison werden **Ziegelstempel** gefunden.\n",
    "Wir zählen Typen (synthetisch):\n",
    "\n",
    "- *LEG VIII AVG*: 7 Stück\n",
    "- *LEG XXI RAPAX*: 3 Stück\n",
    "- *COH IIII GALLORUM*: 5 Stück\n"
   ]
  },
  {
   "cell_type": "code",
   "execution_count": null,
   "id": "329f4a2d",
   "metadata": {},
   "outputs": [],
   "source": [
    "leg_viii_avg = 7     # Integer\n",
    "leg_xxi_rapax = 3    # Integer\n",
    "coh_iiii_gall = 5    # Integer\n",
    "\n",
    "gesamt = leg_viii_avg + leg_xxi_rapax + coh_iiii_gall\n",
    "print(\"Gesamtzahl Ziegelstempel:\", gesamt)\n",
    "\n",
    "anteil_leg_viii = leg_viii_avg / gesamt * 100\n",
    "print(\"Anteil LEG VIII AVG in %:\", anteil_leg_viii)\n",
    "\n",
    "print(type(gesamt))        # int\n",
    "print(type(anteil_leg_viii))  # float wegen Division"
   ]
  },
  {
   "cell_type": "markdown",
   "id": "ea7449a5",
   "metadata": {},
   "source": [
    "### Typkonvertierung & Runden"
   ]
  },
  {
   "cell_type": "code",
   "execution_count": null,
   "id": "92cbdcac",
   "metadata": {},
   "outputs": [],
   "source": [
    "print(\"Als int:\", int(anteil_leg_viii))   # schneidet Nachkommastellen ab\n",
    "print(\"Gerundet:\", round(anteil_leg_viii))"
   ]
  },
  {
   "cell_type": "markdown",
   "id": "1467c7d5",
   "metadata": {},
   "source": [
    "\n",
    "## 6. Float: Gleitkommazahlen\n",
    "\n",
    "Beispiel: Durchschnittliche **Gewichtsabweichung** bei Bleisiegeln (synthetisch).\n",
    "Referenzgewicht: 12.0 g\n",
    "Messwerte: 11.6, 12.3, 11.8, 12.1, 11.9\n"
   ]
  },
  {
   "cell_type": "code",
   "execution_count": null,
   "id": "523b34d3",
   "metadata": {},
   "outputs": [],
   "source": [
    "ref_g = 12.0\n",
    "m1, m2, m3, m4, m5 = 11.6, 12.3, 11.8, 12.1, 11.9\n",
    "abweichung = ((m1-ref_g)+(m2-ref_g)+(m3-ref_g)+(m4-ref_g)+(m5-ref_g)) / 5\n",
    "print(\"Durchschnittliche Abweichung (g):\", abweichung)"
   ]
  },
  {
   "cell_type": "markdown",
   "id": "86643792",
   "metadata": {},
   "source": [
    "\n",
    "## 7. Strings: Konkatenation, Multiplikation, `len`, f-Strings\n",
    "\n",
    "Wir erzeugen kurze **Inventaretiketten** für Funde.\n"
   ]
  },
  {
   "cell_type": "code",
   "execution_count": null,
   "id": "2d2d0aca",
   "metadata": {},
   "outputs": [],
   "source": [
    "fundort = \"Vindonissa\"\n",
    "objekt = \"Bleisiegel\"\n",
    "etikett = fundort + \" – \" + objekt\n",
    "print(etikett)\n",
    "\n",
    "print(\"-\"*8)  # Trennlinie\n",
    "\n",
    "# Mehrzeilige Ausgabe mit Zeilenumbrüchen:\n",
    "print(\"Fundort:\", fundort, \"\\n\" + \"-\"*8 + \"\\nObjekt:\", objekt)\n",
    "\n",
    "# Länge eines Strings\n",
    "print(\"Länge von fundort:\", len(fundort))\n",
    "\n",
    "# f-Strings: Variablen elegant einbetten\n",
    "menge = 4\n",
    "print(f\"{menge}× {objekt} aus {fundort}\")"
   ]
  },
  {
   "cell_type": "markdown",
   "id": "3c1cdc4e",
   "metadata": {},
   "source": [
    "### Typfehler bei Konkatenation demonstrieren (und lösen)"
   ]
  },
  {
   "cell_type": "code",
   "execution_count": null,
   "id": "5e950862",
   "metadata": {},
   "outputs": [],
   "source": [
    "# Fehler provozieren (auskommentiert, damit das Notebook durchläuft):\n",
    "# print(\"Menge: \" + menge)\n",
    "\n",
    "# Lösung: Entweder str() oder f-String\n",
    "print(\"Menge: \" + str(menge))\n",
    "print(f\"Menge: {menge}\")"
   ]
  },
  {
   "cell_type": "markdown",
   "id": "438565e6",
   "metadata": {},
   "source": [
    "\n",
    "## 8. Boolean & `bool()`\n",
    "\n",
    "Booleans modellieren Wahrheitswerte. Beispiel:\n",
    "- Ist Fundort gesichert?\n",
    "- Ist Masseintrag vorhanden?\n"
   ]
  },
  {
   "cell_type": "code",
   "execution_count": null,
   "id": "fb5bf9a1",
   "metadata": {},
   "outputs": [],
   "source": [
    "fundort_gesichert = True\n",
    "masse_bekannt = False\n",
    "print(fundort_gesichert, masse_bekannt)\n",
    "\n",
    "# Verhalten von bool() auf unterschiedlichen Werten\n",
    "print(bool(\"Vindonissa\"))  # True (nicht-leerer String)\n",
    "print(bool(\"\"))            # False (leerer String)\n",
    "print(bool(0))             # False\n",
    "print(bool(1))             # True\n",
    "print(bool(0.0))           # False\n",
    "print(bool(0.1))           # True"
   ]
  },
  {
   "cell_type": "markdown",
   "id": "b1480391",
   "metadata": {},
   "source": [
    "\n",
    "## 9. Mini-Aufgaben (mit Lösungshinweisen)\n",
    "\n",
    "**A1.** Lege Variablen für eine *Inschrift* an: `epigraph_id` (String), `letters_count` (Integer), `is_fragmentary` (Boolean).  \n",
    "Gib sie mit einem **f-String** formatiert aus, z. B. `\"[ID] – 480 Buchstaben – fragmentarisch: True\"`.\n",
    "\n",
    "**A2.** Du hast drei Messwerte (Float) für den **Durchmesser** eines Münzfragments: 17.8, 18.2, 18.0 (in mm).  \n",
    "Berechne die Durchschnittsabweichung gegenüber einer **Referenz** von 18.5 mm. Runde auf **2 Nachkommastellen**.\n",
    "\n",
    "**A3.** Erzeuge eine **Inventarnummer** aus `jahr` (Integer), `fundort` (String) und `laufnummer` (Integer).  \n",
    "Format: `\"2025-Vindonissa-007\"`. (Tipp: `str()` und `zfill()` oder f-String mit Formatierung.)\n",
    "\n",
    "---\n",
    "**Lösungsskizzen** (Zellen ausführen, aber versuche es zuerst selbst oben):\n"
   ]
  },
  {
   "cell_type": "code",
   "execution_count": null,
   "id": "303380e6",
   "metadata": {},
   "outputs": [],
   "source": [
    "# Lösungsskizze A1\n",
    "epigraph_id = \"AE 1978, 123\"\n",
    "letters_count = 480\n",
    "is_fragmentary = True\n",
    "print(f\"{epigraph_id} – {letters_count} Buchstaben – fragmentarisch: {is_fragmentary}\")"
   ]
  },
  {
   "cell_type": "code",
   "execution_count": null,
   "id": "96859c37",
   "metadata": {},
   "outputs": [],
   "source": [
    "# Lösungsskizze A2\n",
    "ref_durchmesser = 18.5\n",
    "d1, d2, d3 = 17.8, 18.2, 18.0\n",
    "avg_abw = ((d1-ref_durchmesser)+(d2-ref_durchmesser)+(d3-ref_durchmesser))/3\n",
    "print(\"Durchschnittsabweichung (mm):\", round(avg_abw, 2))"
   ]
  },
  {
   "cell_type": "code",
   "execution_count": null,
   "id": "82cef10e",
   "metadata": {},
   "outputs": [],
   "source": [
    "# Lösungsskizze A3\n",
    "jahr = 2025\n",
    "fundort = \"Vindonissa\"\n",
    "laufnummer = 7\n",
    "inventar = f\"{jahr}-{fundort}-{str(laufnummer).zfill(3)}\"\n",
    "print(inventar)"
   ]
  },
  {
   "cell_type": "markdown",
   "id": "8760c2fd",
   "metadata": {},
   "source": [
    "\n",
    "## 10. Weiterführend\n",
    "- Dokumentation Built-ins: https://docs.python.org/3/library/functions.html\n",
    "- F-Strings: https://docs.python.org/3/reference/lexical_analysis.html#f-strings\n",
    "- Beachte: Typkonvertierungen ändern oft **nur** die Darstellung im Ausdruck –\n",
    "  willst du dauerhaft konvertieren, weise das Ergebnis einer **neuen Variablen** zu.\n"
   ]
  }
 ],
 "metadata": {
  "kernelspec": {
   "display_name": "Python 3 (ipykernel)",
   "language": "python",
   "name": "python3"
  },
  "language_info": {
   "codemirror_mode": {
    "name": "ipython",
    "version": 3
   },
   "file_extension": ".py",
   "mimetype": "text/x-python",
   "name": "python",
   "nbconvert_exporter": "python",
   "pygments_lexer": "ipython3",
   "version": "3.12.2"
  }
 },
 "nbformat": 4,
 "nbformat_minor": 5
}
