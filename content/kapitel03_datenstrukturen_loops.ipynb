{
 "cells": [
  {
   "cell_type": "markdown",
   "id": "b9c4aaf9",
   "metadata": {},
   "source": [
    "\n",
    "# Kapitel 3 – Datenstrukturen und Loops (Begleitnotebook zum Video)\n",
    "\n",
    "**Hinweis:** Dieses Notebook nutzt **andere Beispiele** als das Skript.  \n",
    "Wir arbeiten mit synthetischen, historisch inspirierten Daten (z. B. Amphoren, Meilensteine, Tempelinschriften).  \n",
    "Es werden **keine externen Daten geladen**.\n",
    "\n",
    "## Lernziele\n",
    "- Listen, Dictionaries, Sets und Tupel verstehen und anwenden\n",
    "- Indizes und Keys sicher benutzen\n",
    "- Loops (`for`, `while`) praktisch einsetzen\n",
    "- Unterschiede zwischen den Strukturen bewusst einschätzen\n",
    "- Kleine Analysen programmieren (Duplikate entfernen, Häufigkeiten zählen)\n",
    "\n",
    "---\n",
    "\n",
    "### Video-Anker (Platzhalter)\n",
    "- 00:00–04:00: Überblick Datenstrukturen\n",
    "- 04:00–10:00: Listen\n",
    "- 10:00–15:00: Dictionaries\n",
    "- 15:00–20:00: Sets\n",
    "- 20:00–23:00: Tupel\n",
    "- 23:00–30:00: Loops\n",
    "- 30:00–35:00: Mini-Aufgaben\n"
   ]
  },
  {
   "cell_type": "markdown",
   "id": "1888c4c9",
   "metadata": {},
   "source": [
    "## Setup"
   ]
  },
  {
   "cell_type": "code",
   "execution_count": null,
   "id": "0a588d65",
   "metadata": {},
   "outputs": [],
   "source": [
    "# Hilfsfunktion für visuelle Überschriften\n",
    "def headline(txt):\n",
    "    print(\"\\n\" + \"=\"*len(txt))\n",
    "    print(txt)\n",
    "    print(\"=\"*len(txt))"
   ]
  },
  {
   "cell_type": "markdown",
   "id": "ea3b22cb",
   "metadata": {},
   "source": [
    "\n",
    "## 1. Listen\n",
    "\n",
    "Listen sind geordnete, veränderbare Strukturen.  \n",
    "Beispiel: Funde von **Amphoren** in einer Grabung (synthetisch)."
   ]
  },
  {
   "cell_type": "code",
   "execution_count": null,
   "id": "6f10f46e",
   "metadata": {},
   "outputs": [],
   "source": [
    "# Liste mit Amphorentypen\n",
    "amphorae = [\"Dressel 1\", \"Dressel 20\", \"Gauloise 4\", \"Dressel 20\", \"Haltern 70\"]\n",
    "print(amphorae)\n",
    "print(\"Länge:\", len(amphorae))\n",
    "\n",
    "# Zugriff per Index\n",
    "print(\"Erstes Element:\", amphorae[0])\n",
    "print(\"Letztes Element:\", amphorae[-1])\n",
    "\n",
    "# Slice (Teilbereich)\n",
    "print(\"Slice:\", amphorae[1:4])"
   ]
  },
  {
   "cell_type": "markdown",
   "id": "9198c353",
   "metadata": {},
   "source": [
    "### Listen manipulieren"
   ]
  },
  {
   "cell_type": "code",
   "execution_count": null,
   "id": "9ada8c20",
   "metadata": {},
   "outputs": [],
   "source": [
    "amphorae[2] = \"Gauloise 5\"   # ersetzen\n",
    "amphorae.append(\"Lusitana 3\") # hinzufügen\n",
    "removed = amphorae.pop(0)    # entfernen\n",
    "print(\"Nach Manipulation:\", amphorae)\n",
    "print(\"Entfernt:\", removed)"
   ]
  },
  {
   "cell_type": "markdown",
   "id": "7ba94114",
   "metadata": {},
   "source": [
    "\n",
    "## 2. Dictionaries\n",
    "\n",
    "Dictionaries speichern **Key-Value-Paare**.  \n",
    "Beispiel: Beschreibungen von **Meilensteinen** (synthetisch)."
   ]
  },
  {
   "cell_type": "code",
   "execution_count": null,
   "id": "df1472e1",
   "metadata": {},
   "outputs": [],
   "source": [
    "milestone_1 = {\n",
    "    \"id\": \"M001\",\n",
    "    \"road\": \"Via Claudia Augusta\",\n",
    "    \"year\": 162,\n",
    "    \"distance_miles\": 24\n",
    "}\n",
    "\n",
    "milestone_2 = {\n",
    "    \"id\": \"M002\",\n",
    "    \"road\": \"Via Appia\",\n",
    "    \"year\": 145,\n",
    "    \"distance_miles\": 12\n",
    "}\n",
    "\n",
    "milestones = {\"M001\": milestone_1, \"M002\": milestone_2}\n",
    "print(milestones[\"M002\"][\"road\"])"
   ]
  },
  {
   "cell_type": "markdown",
   "id": "59b8408e",
   "metadata": {},
   "source": [
    "### Keys & Values"
   ]
  },
  {
   "cell_type": "code",
   "execution_count": null,
   "id": "0315a7ca",
   "metadata": {},
   "outputs": [],
   "source": [
    "print(\"Keys:\", milestones.keys())\n",
    "print(\"Values:\", milestones.values())"
   ]
  },
  {
   "cell_type": "markdown",
   "id": "b17e127f",
   "metadata": {},
   "source": [
    "\n",
    "## 3. Sets\n",
    "\n",
    "Sets speichern nur **einzigartige Elemente**.  \n",
    "Beispiel: Fundorte von Inschriften (synthetisch)."
   ]
  },
  {
   "cell_type": "code",
   "execution_count": null,
   "id": "4ab71582",
   "metadata": {},
   "outputs": [],
   "source": [
    "sites = [\"Aventicum\", \"Curia\", \"Vindonissa\", \"Curia\", \"Turicum\"]\n",
    "print(\"Liste (mit Duplikaten):\", sites)\n",
    "unique_sites = set(sites)\n",
    "print(\"Als Set (einzigartig):\", unique_sites)\n",
    "print(\"Anzahl:\", len(unique_sites))"
   ]
  },
  {
   "cell_type": "markdown",
   "id": "23b720f8",
   "metadata": {},
   "source": [
    "### Set-Operationen"
   ]
  },
  {
   "cell_type": "code",
   "execution_count": null,
   "id": "3a05e06e",
   "metadata": {},
   "outputs": [],
   "source": [
    "dig_2022 = {\"Vindonissa\", \"Curia\", \"Aventicum\"}\n",
    "dig_2023 = {\"Aventicum\", \"Turicum\", \"Augst\"}\n",
    "\n",
    "print(\"Vereinigung:\", dig_2022.union(dig_2023))\n",
    "print(\"Schnitt:\", dig_2022.intersection(dig_2023))\n",
    "print(\"Differenz (nur 2022):\", dig_2022.difference(dig_2023))"
   ]
  },
  {
   "cell_type": "markdown",
   "id": "72c2c73e",
   "metadata": {},
   "source": [
    "\n",
    "## 4. Tupel\n",
    "\n",
    "Tupel sind wie Listen, aber **unveränderbar**.  \n",
    "Beispiel: Geografische Koordinaten eines Fundorts (synthetisch)."
   ]
  },
  {
   "cell_type": "code",
   "execution_count": null,
   "id": "bf436119",
   "metadata": {},
   "outputs": [],
   "source": [
    "vindonissa_coords = (47.5, 8.25)  # (Breite, Länge)\n",
    "print(\"Koordinaten:\", vindonissa_coords)\n",
    "print(\"Breite:\", vindonissa_coords[0])"
   ]
  },
  {
   "cell_type": "markdown",
   "id": "f8a0b93e",
   "metadata": {},
   "source": [
    "\n",
    "## 5. Loops\n",
    "\n",
    "Mit `for` und `while` können wir über Datenstrukturen iterieren.\n"
   ]
  },
  {
   "cell_type": "markdown",
   "id": "5483d7c6",
   "metadata": {},
   "source": [
    "### `for`-Loop über eine Liste"
   ]
  },
  {
   "cell_type": "code",
   "execution_count": null,
   "id": "0eda6a86",
   "metadata": {},
   "outputs": [],
   "source": [
    "for amphora in amphorae:\n",
    "    print(\"Gefunden:\", amphora)"
   ]
  },
  {
   "cell_type": "markdown",
   "id": "b5c6d673",
   "metadata": {},
   "source": [
    "### `for`-Loop über Dictionary"
   ]
  },
  {
   "cell_type": "code",
   "execution_count": null,
   "id": "78d1154d",
   "metadata": {},
   "outputs": [],
   "source": [
    "for key, value in milestones.items():\n",
    "    print(f\"Meilenstein {key}: Jahr {value['year']}, Strasse {value['road']}\")"
   ]
  },
  {
   "cell_type": "markdown",
   "id": "18ad885e",
   "metadata": {},
   "source": [
    "### `while`-Loop Beispiel"
   ]
  },
  {
   "cell_type": "code",
   "execution_count": null,
   "id": "16e6d2f7",
   "metadata": {},
   "outputs": [],
   "source": [
    "# Wir suchen die ersten 2 Fundorte, die mit 'C' beginnen\n",
    "index = 0\n",
    "c_sites = []\n",
    "\n",
    "while len(c_sites) < 2 and index < len(sites):\n",
    "    if sites[index].startswith(\"C\"):\n",
    "        c_sites.append(sites[index])\n",
    "    index += 1\n",
    "\n",
    "print(\"Gefundene Orte:\", c_sites)"
   ]
  },
  {
   "cell_type": "markdown",
   "id": "dda36ce4",
   "metadata": {},
   "source": [
    "\n",
    "## 6. Mini-Aufgaben\n",
    "\n",
    "**A1.** Erstelle eine Liste mit drei **Tempeln** (Strings).  \n",
    "Füge einen weiteren Tempel hinzu, ersetze den zweiten und entferne den ersten.\n",
    "\n",
    "**A2.** Lege ein Dictionary für ein **Papyrusfragment** an: Keys `id`, `material`, `letters_count`.  \n",
    "Gib die Buchstabenzahl über den Key aus.\n",
    "\n",
    "**A3.** Wandeln eine Liste von `[\"Augst\", \"Curia\", \"Augst\", \"Turicum\"]` in ein Set um.  \n",
    "Wie viele eindeutige Orte gibt es?\n",
    "\n",
    "**A4.** Iteriere mit einem `for`-Loop über ein Tupel `(212, \"Constitutio Antoniniana\")`  \n",
    "und gib beide Elemente mit Erklärung aus.\n",
    "\n",
    "---\n",
    "**Lösungsskizzen** (Zellen unten ausführen, aber versuche es zuerst selbst):\n"
   ]
  },
  {
   "cell_type": "code",
   "execution_count": null,
   "id": "12d5ab54",
   "metadata": {},
   "outputs": [],
   "source": [
    "# Lösungsskizze A1\n",
    "temples = [\"Pantheon\", \"Serapeum\", \"Isistempel\"]\n",
    "temples.append(\"Mars Ultor\")\n",
    "temples[1] = \"Tempel des Apollo\"\n",
    "temples.pop(0)\n",
    "print(temples)"
   ]
  },
  {
   "cell_type": "code",
   "execution_count": null,
   "id": "c81a92b0",
   "metadata": {},
   "outputs": [],
   "source": [
    "# Lösungsskizze A2\n",
    "papyrus = {\"id\": \"P.Oxy. 1234\", \"material\": \"Papyrus\", \"letters_count\": 256}\n",
    "print(\"Buchstabenanzahl:\", papyrus[\"letters_count\"])"
   ]
  },
  {
   "cell_type": "code",
   "execution_count": null,
   "id": "a8e57805",
   "metadata": {},
   "outputs": [],
   "source": [
    "# Lösungsskizze A3\n",
    "locs = [\"Augst\", \"Curia\", \"Augst\", \"Turicum\"]\n",
    "print(len(set(locs)))"
   ]
  },
  {
   "cell_type": "code",
   "execution_count": null,
   "id": "66129610",
   "metadata": {},
   "outputs": [],
   "source": [
    "# Lösungsskizze A4\n",
    "doc = (212, \"Constitutio Antoniniana\")\n",
    "for item in doc:\n",
    "    print(\"Element:\", item)"
   ]
  },
  {
   "cell_type": "markdown",
   "id": "5c5e0553",
   "metadata": {},
   "source": [
    "\n",
    "## 7. Weiterführend\n",
    "- Dokumentation zu Collections: https://docs.python.org/3/library/stdtypes.html\n",
    "- Tipp: Wähle die Datenstruktur nach **Analyseaufgabe**:\n",
    "  - Liste: Reihenfolge & Duplikate wichtig\n",
    "  - Set: Einzigartigkeit zählt\n",
    "  - Dictionary: strukturierte Key-Value-Infos\n",
    "  - Tupel: feste Kombinationen, unveränderlich\n"
   ]
  }
 ],
 "metadata": {
  "kernelspec": {
   "display_name": "Python 3 (ipykernel)",
   "language": "python",
   "name": "python3"
  },
  "language_info": {
   "codemirror_mode": {
    "name": "ipython",
    "version": 3
   },
   "file_extension": ".py",
   "mimetype": "text/x-python",
   "name": "python",
   "nbconvert_exporter": "python",
   "pygments_lexer": "ipython3",
   "version": "3.12.2"
  }
 },
 "nbformat": 4,
 "nbformat_minor": 5
}
