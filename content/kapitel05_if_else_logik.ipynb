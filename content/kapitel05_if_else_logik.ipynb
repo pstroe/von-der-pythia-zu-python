{
 "cells": [
  {
   "cell_type": "markdown",
   "id": "c418188b",
   "metadata": {},
   "source": [
    "\n",
    "# Kapitel 5 – If-Else-Statements und Entscheidungslogik (Begleitnotebook)\n",
    "\n",
    "**Hinweis:** Dieses Notebook nutzt **andere Beispiele** als das Skript.  \n",
    "Alle Daten sind **synthetisch** (historisch inspiriert). Es werden **keine externen Daten** geladen.\n",
    "\n",
    "## Lernziele\n",
    "- Bedingungen mit `if`, `elif`, `else` einsetzen\n",
    "- Vergleichs- und boolesche Operatoren anwenden (`==`, `<`, `>`, `and`, `or`, `not`)\n",
    "- Entscheidungsbäume in Python aufbauen\n",
    "- Historische Szenarien modellieren (z. B. Periodisierung, Quellenarten)\n",
    "- Verschachtelte Bedingungen verstehen und vereinfachen"
   ]
  },
  {
   "cell_type": "markdown",
   "id": "94eb10b8",
   "metadata": {},
   "source": [
    "## Setup"
   ]
  },
  {
   "cell_type": "code",
   "execution_count": null,
   "id": "3a1e40fc",
   "metadata": {},
   "outputs": [],
   "source": [
    "def headline(txt):\n",
    "    print(\"\\n\" + \"=\"*len(txt))\n",
    "    print(txt)\n",
    "    print(\"=\"*len(txt))\n",
    "\n",
    "# Beispiel-Daten (synthetisch)\n",
    "coins = [\n",
    "    {\"id\": 1, \"issuer\": \"Claudius\", \"year\": 51, \"material\": \"bronze\"},\n",
    "    {\"id\": 2, \"issuer\": \"Hadrianus\", \"year\": 134, \"material\": \"marble\"},\n",
    "    {\"id\": 3, \"issuer\": \"Alexander Severus\", \"year\": 235, \"material\": \"limestone\"},\n",
    "    {\"id\": 4, \"issuer\": \"Augustus\", \"year\": -10, \"material\": \"gold\"},\n",
    "]\n",
    "\n",
    "chronicles = [\n",
    "    {\"year\": 476, \"event\": \"Fall Westroms\"},\n",
    "    {\"year\": 622, \"event\": \"Hedschra\"},\n",
    "    {\"year\": 800, \"event\": \"Krönung Karls des Grossen\"},\n",
    "    {\"year\": 1453, \"event\": \"Fall Konstantinopels\"},\n",
    "]"
   ]
  },
  {
   "cell_type": "markdown",
   "id": "8da095d8",
   "metadata": {},
   "source": [
    "## 1) Einfache If-Abfragen"
   ]
  },
  {
   "cell_type": "code",
   "execution_count": null,
   "id": "33d17d8f",
   "metadata": {},
   "outputs": [],
   "source": [
    "year = 134\n",
    "if year < 641:\n",
    "    print(\"Spätantike\")\n",
    "else:\n",
    "    print(\"Frühmittelalter\")"
   ]
  },
  {
   "cell_type": "markdown",
   "id": "01018a87",
   "metadata": {},
   "source": [
    "## 2) If-Elif-Else-Kaskaden"
   ]
  },
  {
   "cell_type": "code",
   "execution_count": null,
   "id": "3605a009",
   "metadata": {},
   "outputs": [],
   "source": [
    "for c in coins:\n",
    "    y = c[\"year\"]\n",
    "    if y < 0:\n",
    "        period = \"v. Chr.\"\n",
    "    elif 0 <= y < 300:\n",
    "        period = \"Frühe Kaiserzeit\"\n",
    "    elif 300 <= y < 600:\n",
    "        period = \"Spätantike\"\n",
    "    else:\n",
    "        period = \"Mittelalter\"\n",
    "    print(f\"Münze {c['id']} ({c['issuer']}) → {period}\")"
   ]
  },
  {
   "cell_type": "markdown",
   "id": "1cb36740",
   "metadata": {},
   "source": [
    "## 3) Verschachtelte Bedingungen vs. Vereinfachung"
   ]
  },
  {
   "cell_type": "code",
   "execution_count": null,
   "id": "32b2d50c",
   "metadata": {},
   "outputs": [],
   "source": [
    "# verschachtelt\n",
    "y = 235\n",
    "if y >= 0:\n",
    "    if y < 300:\n",
    "        print(\"Frühe Kaiserzeit\")\n",
    "    else:\n",
    "        if y < 600:\n",
    "            print(\"Spätantike\")\n",
    "        else:\n",
    "            print(\"Mittelalter\")\n",
    "\n",
    "# vereinfachter elif-Block\n",
    "if y < 0:\n",
    "    print(\"v. Chr.\")\n",
    "elif y < 300:\n",
    "    print(\"Frühe Kaiserzeit\")\n",
    "elif y < 600:\n",
    "    print(\"Spätantike\")\n",
    "else:\n",
    "    print(\"Mittelalter\")"
   ]
  },
  {
   "cell_type": "markdown",
   "id": "178ee075",
   "metadata": {},
   "source": [
    "## 4) Historische Szenarien mit If-Else"
   ]
  },
  {
   "cell_type": "code",
   "execution_count": null,
   "id": "b293d920",
   "metadata": {},
   "outputs": [],
   "source": [
    "for ch in chronicles:\n",
    "    y = ch[\"year\"]\n",
    "    if y < 500:\n",
    "        phase = \"Antike\"\n",
    "    elif y < 1000:\n",
    "        phase = \"Mittelalter\"\n",
    "    else:\n",
    "        phase = \"Neuzeit\"\n",
    "    print(f\"{ch['year']}: {ch['event']} → {phase}\")"
   ]
  },
  {
   "cell_type": "markdown",
   "id": "8e849f2c",
   "metadata": {},
   "source": [
    "## 5) Boolesche Operatoren (`and`, `or`, `not`)"
   ]
  },
  {
   "cell_type": "code",
   "execution_count": null,
   "id": "db2b7ffc",
   "metadata": {},
   "outputs": [],
   "source": [
    "for c in coins:\n",
    "    if c[\"material\"] == \"bronze\" and c[\"year\"] < 100:\n",
    "        print(\"Frühe Bronzeprägung:\", c)\n",
    "    if c[\"issuer\"] == \"Augustus\" or c[\"issuer\"] == \"Claudius\":\n",
    "        print(\"Julisch-claudisch:\", c[\"issuer\"])\n",
    "    if not c[\"material\"] == \"gold\":\n",
    "        print(\"Nicht-Gold:\", c[\"material\"])"
   ]
  },
  {
   "cell_type": "markdown",
   "id": "da212440",
   "metadata": {},
   "source": [
    "\n",
    "## 6) Mini-Aufgaben\n",
    "\n",
    "**A1.** Schreibe ein If-Else, das prüft, ob eine Münze aus der **römischen Kaiserzeit (0–300)** stammt.  \n",
    "Falls ja: Ausgabe `\"Kaiserzeit\"`, sonst `\"andere Epoche\"`.\n",
    "\n",
    "**A2.** Klassifiziere die Jahre in `chronicles` in folgende Kategorien:  \n",
    "- `< 500` → Antike  \n",
    "- `500–1499` → Mittelalter  \n",
    "- `>= 1500` → Neuzeit\n",
    "\n",
    "**A3.** Erstelle eine Bedingung, die nur Münzen aus **Bronze oder Gold** akzeptiert.\n",
    "\n",
    "**A4.** Nutze `not`, um alle Ereignisse **ausserhalb** des Mittelalters (`500–1499`) zu finden.\n",
    "\n",
    "---\n",
    "**Lösungsskizzen** (Zellen unten ausführen, aber versuche es zuerst selbst):\n"
   ]
  },
  {
   "cell_type": "code",
   "execution_count": null,
   "id": "92334e62",
   "metadata": {},
   "outputs": [],
   "source": [
    "# Deine Lös A1\n"
   ]
  },
  {
   "cell_type": "code",
   "execution_count": null,
   "id": "414a481b",
   "metadata": {},
   "outputs": [],
   "source": [
    "# Lösungsskizze A2\n"
   ]
  },
  {
   "cell_type": "code",
   "execution_count": null,
   "id": "9ee6ce56",
   "metadata": {},
   "outputs": [],
   "source": [
    "# Lösungsskizze A3\n"
   ]
  },
  {
   "cell_type": "code",
   "execution_count": null,
   "id": "c7406ec0",
   "metadata": {},
   "outputs": [],
   "source": [
    "# Lösungsskizze A4\n"
   ]
  },
  {
   "cell_type": "markdown",
   "id": "aea14204",
   "metadata": {},
   "source": [
    "\n",
    "## 7) Weiterführend\n",
    "- Python Docs: https://docs.python.org/3/tutorial/controlflow.html\n",
    "- Stil-Tipp: Bedingungen **vereinfachen**, wo möglich (`elif` statt tiefer Verschachtelung)\n",
    "- Teste Bedingungen mit kleinen **synthetischen Szenarien** (z. B. Münzen, Chroniken)\n"
   ]
  }
 ],
 "metadata": {
  "kernelspec": {
   "display_name": "Python 3 (ipykernel)",
   "language": "python",
   "name": "python3"
  },
  "language_info": {
   "codemirror_mode": {
    "name": "ipython",
    "version": 3
   },
   "file_extension": ".py",
   "mimetype": "text/x-python",
   "name": "python",
   "nbconvert_exporter": "python",
   "pygments_lexer": "ipython3",
   "version": "3.12.2"
  }
 },
 "nbformat": 4,
 "nbformat_minor": 5
}
