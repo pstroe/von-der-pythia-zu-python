{
 "cells": [
  {
   "cell_type": "markdown",
   "id": "f15c199a",
   "metadata": {},
   "source": [
    "# Übung: Variablen aus Artikeln erstellen (Sitzung 2)\n",
    "\n",
    "**Aufgabenstellung:**  \n",
    "- Auf OLAT findet ihr im Ordner *Dokumente* einen weiteren Ordner *Artikel_Sitzung_2*.  \n",
    "- Wählt **einen Artikel** aus.  \n",
    "- Überlegt euch, welche Fakten ihr als **Variablen** darstellen könnt.  \n",
    "- Erstellt eine **kurze Zusammenfassung** des Artikels mit den wichtigsten Fakten und gebt diese als **String** zurück.\n",
    "\n",
    "---\n"
   ]
  },
  {
   "cell_type": "markdown",
   "id": "06a6f913",
   "metadata": {},
   "source": [
    "## Schritt 1 – Notizen zum Artikel\n",
    "_Notiert hier Stichworte zu den wichtigsten Fakten._"
   ]
  },
  {
   "cell_type": "markdown",
   "id": "108ef24f",
   "metadata": {},
   "source": [
    "## Schritt 2 – Variablen definieren\n",
    "_Definiert in Python Variablen für die wichtigsten Fakten (Jahreszahlen, Orte, Personen, Ereignisse etc.)._"
   ]
  },
  {
   "cell_type": "code",
   "execution_count": null,
   "id": "0bb01e11",
   "metadata": {},
   "outputs": [],
   "source": [
    "# === Definiert hier eure Variablen ===\n",
    "\n"
   ]
  },
  {
   "cell_type": "markdown",
   "id": "8993a0c6",
   "metadata": {},
   "source": [
    "## Schritt 3 – Zusammenfassung erstellen\n",
    "_Formuliert die wichtigsten Punkte des Artikels in 2–3 Sätzen und gebt sie als String zurück._"
   ]
  },
  {
   "cell_type": "code",
   "execution_count": null,
   "id": "d1deed70",
   "metadata": {},
   "outputs": [],
   "source": [
    "# === Gebt hier eure Zusammenfassung als String zurück ===\n",
    "# Beispiel:\n",
    "# zusammenfassung = \"Im Jahr ... geschah ...\"\n",
    "# print(zusammenfassung)\n"
   ]
  }
 ],
 "metadata": {},
 "nbformat": 4,
 "nbformat_minor": 5
}
