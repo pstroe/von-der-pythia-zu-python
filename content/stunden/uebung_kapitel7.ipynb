{
  "cells": [
    {
      "cell_type": "markdown",
      "metadata": {},
      "source": [
        "# \u00dcbung zu Kapitel 7 \u2013 Klassen und Objektorientierung (Teil 1)\n",
        "\n",
        "In dieser \u00dcbung wiederholst du die zentralen Konzepte aus Kapitel 7 *bis und mit erstem Quiz*.\n",
        "Du arbeitest mit **Klassen**, erstellst **Objekte**, initialisierst Attribute und rufst **Methoden** auf.\n",
        "\n",
        "**Lernziele**:\n",
        "- Du verstehst den Unterschied zwischen Klasse und Objekt.\n",
        "- Du kannst einen Konstruktor `__init__` schreiben.\n",
        "- Du kannst Attribute ver\u00e4ndern (Mutierbarkeit).\n",
        "- Du wendest Methoden an Objekte an.\n",
        "\n",
        "---\n",
        "## Aufgabe 1: Deine erste Klasse\n",
        "Erstelle eine Klasse `Coin`, die folgende Attribute im Konstruktor (`__init__`) setzt:\n",
        "- `issuer` (String)\n",
        "- `weight` (Float)\n",
        "- `mint_year` (Integer)\n",
        "\n",
        "Schreibe ausserdem eine Methode `info()`, die alle Attribute sch\u00f6n formatiert ausgibt (z.\u202fB. per f-String)."
      ]
    },
    {
      "cell_type": "code",
      "metadata": {},
      "source": [
        "# Schreibe deinen Code hier\n",
        "\n",
        "class Coin:\n",
        "    pass  # Entferne mich und implementiere die Klasse"
      ]
    },
    {
      "cell_type": "markdown",
      "metadata": {},
      "source": [
        "## Aufgabe 2: Instanziierung\n",
        "Erstelle jetzt ein Objekt `coin_nero` auf Basis deiner Klasse und w\u00e4hle geeignete Werte.\n",
        "\n",
        "Rufe anschliessend `info()` auf."
      ]
    },
    {
      "cell_type": "code",
      "metadata": {},
      "source": [
        "# Erstelle dein Objekt und teste info() hier\n"
      ]
    },
    {
      "cell_type": "markdown",
      "metadata": {},
      "source": [
        "## Aufgabe 3: Mutierbarkeit\n",
        "Ver\u00e4ndere das Gewicht deiner M\u00fcnze (z.\u202fB. durch Abnutzung) direkt im Objekt.\n",
        "Gib danach erneut `info()` aus und beobachte, was sich \u00e4ndert."
      ]
    },
    {
      "cell_type": "code",
      "metadata": {},
      "source": [
        "# Passe hier das Gewicht an und rufe info() erneut auf\n"
      ]
    },
    {
      "cell_type": "markdown",
      "metadata": {},
      "source": [
        "## Aufgabe 4: Methode zur Anpassung\n",
        "Erweitere deine Klasse `Coin` um eine Methode `wear(amount)`,\n",
        "die das Gewicht um einen \u00fcbergegebenen Wert *reduziert*.\n",
        "\n",
        "Beispiel:\n",
        "`coin_nero.wear(0.2)` \u2192 verringert `weight` um 0.2 Gramm."
      ]
    },
    {
      "cell_type": "code",
      "metadata": {},
      "source": [
        "# Implementiere wear() in der Klasse und teste sie hier\n"
      ]
    },
    {
      "cell_type": "markdown",
      "metadata": {},
      "source": [
        "## Aufgabe 5 (optional): Mehrere Objekte\n",
        "Lege eine **Liste** von mehreren `Coin`\u2011Objekten an.\n",
        "Iteriere mit einer `for`\u2011Schleife dar\u00fcber und rufe `info()` f\u00fcr jedes Objekt auf.\n",
        "\n",
        "Kannst du zus\u00e4tzlich bestimmen, welche M\u00fcnze am schwersten ist?"
      ]
    },
    {
      "cell_type": "code",
      "metadata": {},
      "source": [
        "# Bonus: Deine L\u00f6sung hier\n"
      ]
    },
    {
      "cell_type": "markdown",
      "metadata": {},
      "source": [
        "---\n",
        "Gl\u00fcckwunsch! \ud83c\udf89\n",
        "\n",
        "Wenn du alle Aufgaben l\u00f6sen konntest, hast du die Grundlagen der objektorientierten Programmierung in Python verstanden.\n",
        "\n",
        "Du bist bereit f\u00fcr den zweiten Teil von Kapitel 7!"
      ]
    }
  ],
  "metadata": {
    "kernelspec": {
      "display_name": "Python 3",
      "language": "python",
      "name": "python3"
    },
    "language_info": {
      "name": "python",
      "version": "3.x"
    }
  },
  "nbformat": 4,
  "nbformat_minor": 5
}