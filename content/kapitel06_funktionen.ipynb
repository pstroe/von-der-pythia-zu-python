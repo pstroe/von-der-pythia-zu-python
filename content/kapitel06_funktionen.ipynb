{
 "cells": [
  {
   "cell_type": "markdown",
   "id": "af51fb35",
   "metadata": {},
   "source": [
    "# Kapitel 6 – Funktionen\n",
    "\n",
    "Dieses Notebook begleitet das Kapitel **Funktionen**. Es verwendet **synthetische Beispiele** (keine externen Daten)."
   ]
  },
  {
   "cell_type": "markdown",
   "id": "677505ff",
   "metadata": {},
   "source": [
    "\n",
    "## Lernziele\n",
    "- Zweck und Nutzen von Funktionen verstehen\n",
    "- Parameter/Argumente/Rückgabewerte unterscheiden\n",
    "- Eigene Funktionen definieren, dokumentieren und testen\n",
    "- Positions-, benannte und variable Argumente verwenden\n",
    "- Rekursion an einem einfachen Beispiel nachvollziehen\n",
    "- (Exkurs) Encodings praktisch nachvollziehen\n"
   ]
  },
  {
   "cell_type": "markdown",
   "id": "2b5e24f6",
   "metadata": {},
   "source": [
    "## Exkurs: Datei-Encodings (ASCII vs. UTF‑8)\n",
    "Wir demonstrieren das Encodieren/Decodieren und was bei falschem Encoding passiert."
   ]
  },
  {
   "cell_type": "code",
   "execution_count": 20,
   "id": "986ad2ef",
   "metadata": {},
   "outputs": [
    {
     "data": {
      "text/plain": [
       "([71,\n",
       "  97,\n",
       "  108,\n",
       "  108,\n",
       "  105,\n",
       "  97,\n",
       "  32,\n",
       "  101,\n",
       "  115,\n",
       "  116,\n",
       "  32,\n",
       "  111,\n",
       "  109,\n",
       "  110,\n",
       "  105,\n",
       "  115,\n",
       "  32,\n",
       "  100,\n",
       "  105,\n",
       "  118],\n",
       " 39)"
      ]
     },
     "execution_count": 20,
     "metadata": {},
     "output_type": "execute_result"
    }
   ],
   "source": [
    "\n",
    "# ASCII-Beispiel (Latein – ohne Sonderzeichen funktioniert)\n",
    "t_lat = \"Gallia est omnis divisa in partes tres.\"\n",
    "ascii_bytes = t_lat.encode('ascii')\n",
    "ascii_codes = list(ascii_bytes)\n",
    "ascii_codes[:20], len(ascii_codes)\n"
   ]
  },
  {
   "cell_type": "code",
   "execution_count": 23,
   "id": "f0dcba74-468a-4a30-a2ab-59bd435b81bb",
   "metadata": {},
   "outputs": [
    {
     "data": {
      "text/plain": [
       "bytes"
      ]
     },
     "execution_count": 23,
     "metadata": {},
     "output_type": "execute_result"
    }
   ],
   "source": [
    "type(ascii_bytes)"
   ]
  },
  {
   "cell_type": "code",
   "execution_count": 24,
   "id": "ca4413df-04ca-4247-9019-264476b4e025",
   "metadata": {},
   "outputs": [
    {
     "data": {
      "text/plain": [
       "str"
      ]
     },
     "execution_count": 24,
     "metadata": {},
     "output_type": "execute_result"
    }
   ],
   "source": [
    "type(t_lat)"
   ]
  },
  {
   "cell_type": "code",
   "execution_count": 21,
   "id": "f8537f7f",
   "metadata": {},
   "outputs": [
    {
     "name": "stdout",
     "output_type": "stream",
     "text": [
      "ASCII-Fehler: 'ascii' codec can't encode characters in position 0-6: ordinal not in range(128)\n",
      "UTF-8: erste 32 Byte: [206, 148, 206, 177, 207, 129, 206, 181, 206, 175, 206, 191, 207, 133, 32, 206, 186, 206, 177, 225, 189, 182, 32, 206, 160, 206, 177, 207, 129, 207, 133, 207]\n",
      "Δαρείου καὶ Παρυσάτιδος γίγνονται παῖδες δύο\n"
     ]
    }
   ],
   "source": [
    "\n",
    "# Altgriechisch – ASCII schlägt fehl, UTF-8 funktioniert\n",
    "t_gr = \"Δαρείου καὶ Παρυσάτιδος γίγνονται παῖδες δύο\"\n",
    "try:\n",
    "    _ = t_gr.encode('ascii')\n",
    "except UnicodeEncodeError as e:\n",
    "    print(\"ASCII-Fehler:\", e)\n",
    "\n",
    "utf8_bytes = t_gr.encode('utf-8')\n",
    "codes_utf8 = list(utf8_bytes)[:32]\n",
    "print(\"UTF-8: erste 32 Byte:\", codes_utf8)\n",
    "\n",
    "# Korrektes Decodieren\n",
    "print(bytes(utf8_bytes).decode('utf-8'))\n"
   ]
  },
  {
   "cell_type": "code",
   "execution_count": 25,
   "id": "cb557242",
   "metadata": {},
   "outputs": [
    {
     "data": {
      "text/plain": [
       "'Î\\x94Î±Ï\\x81ÎµÎ¯Î¿Ï\\x85 ÎºÎ±á½¶ Î\\xa0Î±Ï\\x81Ï\\x85Ï\\x83Î¬Ï\\x84Î¹Î´Î¿Ï\\x82 Î³Î¯Î³Î½Î¿Î½Ï\\x84Î±Î¹ Ï\\x80Î±á¿\\x96Î´ÎµÏ\\x82 Î´Ï\\x8dÎ¿'"
      ]
     },
     "execution_count": 25,
     "metadata": {},
     "output_type": "execute_result"
    }
   ],
   "source": [
    "\n",
    "# Falsches Decodieren (UTF-8-Bytes als Latin-1 interpretieren) – ergibt Kauderwelsch\n",
    "latin1_wrong = bytes(utf8_bytes).decode('latin1')\n",
    "latin1_wrong[:120]\n"
   ]
  },
  {
   "cell_type": "markdown",
   "id": "7b46a495",
   "metadata": {},
   "source": [
    "## Funktionen in Python – Definition, Signatur, Aufruf"
   ]
  },
  {
   "cell_type": "code",
   "execution_count": 26,
   "id": "22cdc688",
   "metadata": {},
   "outputs": [
    {
     "name": "stdout",
     "output_type": "stream",
     "text": [
      "Eigene Funktion: 19\n",
      "len():           19\n",
      "Docstring:\n",
      " Compute the length of a string.\n",
      "\n",
      "Args:\n",
      "    our_string (str): String to measure.\n",
      "\n",
      "Returns:\n",
      "    int: Number of characters (incl. spaces).\n",
      "    \n"
     ]
    }
   ],
   "source": [
    "\n",
    "# Eine einfache Funktion: Länge eines Strings zählen (ohne len())\n",
    "def string_length(our_string):\n",
    "    \"\"\"Compute the length of a string.\n",
    "\n",
    "Args:\n",
    "    our_string (str): String to measure.\n",
    "\n",
    "Returns:\n",
    "    int: Number of characters (incl. spaces).\n",
    "    \"\"\"\n",
    "    counter = 0\n",
    "    for _ in our_string:\n",
    "        counter += 1\n",
    "    return counter\n",
    "\n",
    "name = \"Gaius Iulius Caesar\"\n",
    "print(\"Eigene Funktion:\", string_length(name))\n",
    "print(\"len():          \", len(name))\n",
    "print(\"Docstring:\\n\", string_length.__doc__)\n"
   ]
  },
  {
   "cell_type": "code",
   "execution_count": 27,
   "id": "c2ec835d",
   "metadata": {},
   "outputs": [
    {
     "name": "stdout",
     "output_type": "stream",
     "text": [
      "Signatur: (our_string: str) -> int\n",
      "Ergebnis: 6\n"
     ]
    }
   ],
   "source": [
    "def string_length_typed(our_string: str) -> int:\n",
    "    counter = 0\n",
    "    for _ in our_string:\n",
    "        counter += 1\n",
    "    return counter\n",
    "\n",
    "import inspect\n",
    "print(\"Signatur:\", inspect.signature(string_length_typed))\n",
    "print(\"Ergebnis:\", string_length_typed(\"Cicero\"))\n"
   ]
  },
  {
   "cell_type": "markdown",
   "id": "8bada0f4",
   "metadata": {},
   "source": [
    "## Argumentarten"
   ]
  },
  {
   "cell_type": "markdown",
   "id": "1b2f1268",
   "metadata": {},
   "source": [
    "### 1) Positionsargumente"
   ]
  },
  {
   "cell_type": "code",
   "execution_count": 28,
   "id": "e877fee9",
   "metadata": {},
   "outputs": [
    {
     "name": "stdout",
     "output_type": "stream",
     "text": [
      "Marcus Tullius Cicero\n",
      "Tullius Cicero Marcus\n"
     ]
    }
   ],
   "source": [
    "\n",
    "def roman_name(praenomen, nomen_gentile, cognomen):\n",
    "    return f\"{praenomen} {nomen_gentile} {cognomen}\"\n",
    "\n",
    "print(roman_name(\"Marcus\", \"Tullius\", \"Cicero\"))\n",
    "print(roman_name(\"Tullius\", \"Cicero\", \"Marcus\"))  # falsche Reihenfolge\n"
   ]
  },
  {
   "cell_type": "markdown",
   "id": "598ca864",
   "metadata": {},
   "source": [
    "### 2) Benannte Argumente (mit Defaults)"
   ]
  },
  {
   "cell_type": "code",
   "execution_count": 29,
   "id": "0832f517",
   "metadata": {},
   "outputs": [
    {
     "name": "stdout",
     "output_type": "stream",
     "text": [
      "Marcus Tullius Cicero\n",
      "Marcus Tullius\n"
     ]
    }
   ],
   "source": [
    "\n",
    "def roman_name_kw(praenomen: str = \"\", nomen_gentile: str = \"\", cognomen: str = \"\") -> str:\n",
    "    return f\"{praenomen} {nomen_gentile} {cognomen}\".strip()\n",
    "\n",
    "print(roman_name_kw(praenomen=\"Marcus\", nomen_gentile=\"Tullius\", cognomen=\"Cicero\"))\n",
    "print(roman_name_kw(nomen_gentile=\"Tullius\", praenomen=\"Marcus\"))  # ohne Cognomen\n"
   ]
  },
  {
   "cell_type": "markdown",
   "id": "62f8e290",
   "metadata": {},
   "source": [
    "### 3) Variable Argumente (`*args`, `**kwargs`)"
   ]
  },
  {
   "cell_type": "code",
   "execution_count": 31,
   "id": "439b0a4a",
   "metadata": {},
   "outputs": [
    {
     "name": "stdout",
     "output_type": "stream",
     "text": [
      "Gaius Iulius Caesar\n",
      "Publius · Vergilius · Maro\n"
     ]
    },
    {
     "data": {
      "text/plain": [
       "{'praenomen': 'Marcus',\n",
       " 'gens': 'Tullius',\n",
       " 'cognomen': 'Cicero',\n",
       " 'born': -106,\n",
       " 'died': -43}"
      ]
     },
     "execution_count": 31,
     "metadata": {},
     "output_type": "execute_result"
    }
   ],
   "source": [
    "\n",
    "def roman_name_var(*names, sep: str = \" \"):\n",
    "    \"\"\"Beliebig viele Namenselemente zusammenfügen.\n",
    "\n",
    "Args:\n",
    "    *names: beliebige Namenssegmente\n",
    "    sep (str): Trennzeichen (benanntes Argument)\n",
    "\"\"\"\n",
    "    return sep.join(str(n) for n in names if n)\n",
    "\n",
    "print(roman_name_var(\"Gaius\", \"Iulius\", \"Caesar\"))\n",
    "print(roman_name_var(\"Publius\", \"Vergilius\", \"Maro\", sep=\" · \"))\n",
    "\n",
    "def summarize_person(**facts):\n",
    "    \"\"\"Sammelt beliebige Fakten als benannte Argumente.\"\"\"\n",
    "    return facts\n",
    "\n",
    "summarize_person(praenomen=\"Marcus\", gens=\"Tullius\", cognomen=\"Cicero\", born=-106, died=-43)\n"
   ]
  },
  {
   "cell_type": "markdown",
   "id": "cac4ceb9",
   "metadata": {},
   "source": [
    "## 4) Datumsangaben normalisieren\n",
    "Funktion `normalize_year(s)`, die Jahresangaben wie `'0259'`, `'003'`, `'-0003'` in `int` wandelt (BC als negative Werte)."
   ]
  },
  {
   "cell_type": "code",
   "execution_count": 32,
   "id": "459d9a19",
   "metadata": {},
   "outputs": [
    {
     "data": {
      "text/plain": [
       "[('0259', 259),\n",
       " ('0003', 3),\n",
       " ('-0003', -3),\n",
       " ('0', 0),\n",
       " ('', None),\n",
       " (None, None),\n",
       " ('+0012', 12),\n",
       " (' 0010 ', 10)]"
      ]
     },
     "execution_count": 32,
     "metadata": {},
     "output_type": "execute_result"
    }
   ],
   "source": [
    "\n",
    "def normalize_year(s: str) -> int | None:\n",
    "    \"\"\"Normalisiert Jahresstrings zu int.\n",
    "\n",
    "Beispiele:\n",
    "    '0259' -> 259\n",
    "    '0003' -> 3\n",
    "    '-0003' -> -3\n",
    "    None/'' -> None\n",
    "    \"\"\"\n",
    "    if s is None:\n",
    "        return None\n",
    "    s = str(s).strip()\n",
    "    if not s:\n",
    "        return None\n",
    "    # BC-Fall\n",
    "    sign = -1 if s.startswith('-') else 1\n",
    "    s = s.lstrip('+-')  # + oder - entfernen\n",
    "    if not s.isdigit():\n",
    "        return None\n",
    "    val = int(s.lstrip('0') or '0')\n",
    "    return sign * val\n",
    "\n",
    "tests = ['0259', '0003', '-0003', '0', '', None, '+0012', ' 0010 ']\n",
    "[(t, normalize_year(t)) for t in tests]\n"
   ]
  },
  {
   "cell_type": "markdown",
   "id": "572a7997",
   "metadata": {},
   "source": [
    "## 5) Funktionen kombinieren\n",
    "Beispiel: Namen formatieren und Datumsangaben ausgeben."
   ]
  },
  {
   "cell_type": "code",
   "execution_count": 33,
   "id": "b1566d08",
   "metadata": {},
   "outputs": [
    {
     "data": {
      "text/plain": [
       "'Marcus Tullius Cicero (born -106, died -43)'"
      ]
     },
     "execution_count": 33,
     "metadata": {},
     "output_type": "execute_result"
    }
   ],
   "source": [
    "\n",
    "def format_person(praenomen=\"\", nomen=\"\", cognomen=\"\", born=None, died=None):\n",
    "    name = roman_name_var(praenomen, nomen, cognomen)\n",
    "    y_b = normalize_year(born)\n",
    "    y_d = normalize_year(died)\n",
    "    life = \"\"\n",
    "    if y_b is not None or y_d is not None:\n",
    "        life = f\" (born {y_b if y_b is not None else '?'}, died {y_d if y_d is not None else '?'})\"\n",
    "    return name + life\n",
    "\n",
    "format_person(\"Marcus\", \"Tullius\", \"Cicero\", born='-0106', died='-0043')\n"
   ]
  },
  {
   "cell_type": "markdown",
   "id": "eaf93c02",
   "metadata": {},
   "source": [
    "## 6) Rekursivität"
   ]
  },
  {
   "cell_type": "markdown",
   "id": "58b17111",
   "metadata": {},
   "source": [
    "### Beispiel 1: Fakultät (n!) – mit Guard Clauses und Typannotationen"
   ]
  },
  {
   "cell_type": "code",
   "execution_count": 35,
   "id": "59619921",
   "metadata": {},
   "outputs": [
    {
     "data": {
      "text/plain": [
       "[1, 1, 2, 6, 24, 120, 720]"
      ]
     },
     "execution_count": 35,
     "metadata": {},
     "output_type": "execute_result"
    }
   ],
   "source": [
    "\n",
    "def factorial(n: int) -> int:\n",
    "    if n in [0,1]:\n",
    "        return 1\n",
    "    return n * factorial(n-1)\n",
    "\n",
    "[factorial(i) for i in range(7)]\n"
   ]
  },
  {
   "cell_type": "markdown",
   "id": "ae74df94",
   "metadata": {},
   "source": [
    "### Beispiel 2: Rekursives Durchlaufen eines verschachtelten Datentyps"
   ]
  },
  {
   "cell_type": "code",
   "execution_count": 36,
   "id": "d1ec9200",
   "metadata": {},
   "outputs": [
    {
     "data": {
      "text/plain": [
       "[(('coin_6', 'coin_no'), 6),\n",
       " (('coin_6', 'weight'), 5.41),\n",
       " (('coin_6', 'issuer', 'name'), 'Claudius I'),\n",
       " (('coin_6', 'issuer', 'house'), 'Claudii'),\n",
       " (('coin_4', 'coin_no'), 4),\n",
       " (('coin_4', 'weight'), 6.49)]"
      ]
     },
     "execution_count": 36,
     "metadata": {},
     "output_type": "execute_result"
    }
   ],
   "source": [
    "\n",
    "# Wir traversieren ein verschachteltes Dict (synthetisch) und sammeln alle Schlüsselpfade\n",
    "data = {\n",
    "    \"coin_6\": {\"coin_no\": 6, \"weight\": 5.41, \"issuer\": {\"name\": \"Claudius I\", \"house\": \"Claudii\"}},\n",
    "    \"coin_4\": {\"coin_no\": 4, \"weight\": 6.49, \"issuer\": {\"name\": \"Agrippa (Gaius)\", \"house\": None}},\n",
    "}\n",
    "\n",
    "def collect_keypaths(obj, prefix=()):\n",
    "    paths = []\n",
    "    if isinstance(obj, dict):\n",
    "        for k, v in obj.items():\n",
    "            paths.extend(collect_keypaths(v, prefix + (k,)))\n",
    "    else:\n",
    "        paths.append((prefix, obj))\n",
    "    return paths\n",
    "\n",
    "collect_keypaths(data)[:6]\n"
   ]
  },
  {
   "cell_type": "markdown",
   "id": "80958462",
   "metadata": {},
   "source": [
    "\n",
    "## Gute Praxis (Checkliste)\n",
    "- **Eine Aufgabe pro Funktion** – kleine, klar benannte Einheiten (`normalize_date()`, `extract_names()`).\n",
    "- **Sprechende Namen** – Verben für Funktionen, Nomen für Daten.\n",
    "- **Benannte Argumente & Defaults** – erhöhen Lesbarkeit/Robustheit.\n",
    "- **Dokumentieren** – knapper Docstring (Zweck, Args, Return).\n",
    "- **Rückgaben klar** – eindeutige Typen; `None` bewusst behandeln.\n",
    "- **Guard Clauses** – `if x is None: return …` verkürzt verschachtelte Logik.\n"
   ]
  },
  {
   "cell_type": "markdown",
   "id": "230c970d",
   "metadata": {},
   "source": [
    "\n",
    "## Übungsaufgaben (optional)\n",
    "1. **`slugify(name: str) -> str`**: Schreibe eine Funktion, die einen lateinischen Namen in einen URL‑Slug umwandelt (kleinbuchstaben, Leerzeichen→`-`, Sonderzeichen entfernen).\n",
    "2. **`findall_years(text: str) -> list[int]`**: Extrahiere aus einem Text alle Jahreszahlen (2–4 Stellen, optional `-` davor) und gib sie als `int` zurück – nutze eine kleine Hilfsfunktion und `normalize_year`.\n",
    "3. **`roman_name_var` erweitern**: Füge ein benanntes Argument `order=(\"praenomen\",\"nomen\",\"cognomen\")` hinzu und erlaube flexible Reihenfolgen.\n"
   ]
  }
 ],
 "metadata": {
  "kernelspec": {
   "display_name": "Python 3 (ipykernel)",
   "language": "python",
   "name": "python3"
  },
  "language_info": {
   "codemirror_mode": {
    "name": "ipython",
    "version": 3
   },
   "file_extension": ".py",
   "mimetype": "text/x-python",
   "name": "python",
   "nbconvert_exporter": "python",
   "pygments_lexer": "ipython3",
   "version": "3.12.2"
  }
 },
 "nbformat": 4,
 "nbformat_minor": 5
}
