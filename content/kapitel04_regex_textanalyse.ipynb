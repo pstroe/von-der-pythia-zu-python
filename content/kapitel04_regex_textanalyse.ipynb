{
 "cells": [
  {
   "cell_type": "markdown",
   "id": "f681ca49",
   "metadata": {},
   "source": [
    "\n",
    "# Kapitel 4 – Reguläre Ausdrücke zur Textanalyse (Begleitnotebook)\n",
    "\n",
    "**Hinweis:** Dieses Notebook nutzt **andere Beispiele** als das Skript.  \n",
    "Alle Texte sind **synthetisch** (historisch inspiriert). **Keine externen Daten** werden geladen.\n",
    "\n",
    "## Lernziele\n",
    "- RegEx-Grundbausteine (Zeichenklassen, Quantoren, Anker, Gruppen, Alternativen)\n",
    "- Python-Workflow mit `re`: `findall`, `search`, `finditer`, `sub`, `split`, `compile`\n",
    "- Greedy vs. non-greedy\n",
    "- Lookahead/Lookbehind\n",
    "- Gruppen (positional & named) und Backreferences\n",
    "- Flags: `IGNORECASE`, `MULTILINE`, `DOTALL`, `VERBOSE`"
   ]
  },
  {
   "cell_type": "markdown",
   "id": "fe381b01",
   "metadata": {},
   "source": [
    "## Setup"
   ]
  },
  {
   "cell_type": "code",
   "execution_count": 1,
   "id": "04e6888d",
   "metadata": {},
   "outputs": [
    {
     "name": "stdout",
     "output_type": "stream",
     "text": [
      "Beispiele geladen (synthetisch).\n"
     ]
    }
   ],
   "source": [
    "import re\n",
    "\n",
    "def headline(txt):\n",
    "    print(\"\\n\" + \"=\"*len(txt))\n",
    "    print(txt)\n",
    "    print(\"=\"*len(txt))\n",
    "\n",
    "# Synthetic, historically flavored snippets (NOT from the script)\n",
    "latin_snippet = (\n",
    "    \"Anno DCCLIII ab urbe condita legati Romani ad Helvetios missi sunt.\\n\"\n",
    "    \"M. Tullius Cicero orationem habuit in foro Romano die VIII Kal. Mart.\\n\"\n",
    "    \"In tabulis publicis legitur: 'civibus libertatem confirmamus'.\"\n",
    ")\n",
    "\n",
    "german_snippet = (\n",
    "    \"Im Jahre 1525 schrieb ein Chronist in Nürnberg: \\n\"\n",
    "    \"Joh. Stumpf berichtet am 12.03.1525 über den Umzug. \\n\"\n",
    "    \"In der Stadtchronik steht: »Wir bestellten die Wächter; die Tore blieben zu.«\\n\"\n",
    "    \"Siegel-Nr. A-017 wurde an Tor B-3 angebracht.\"\n",
    ")\n",
    "\n",
    "print(\"Beispiele geladen (synthetisch).\")"
   ]
  },
  {
   "cell_type": "markdown",
   "id": "4d5d4bbc",
   "metadata": {},
   "source": [
    "\n",
    "## 1) Mini-Cheatsheet (Python `re`)\n",
    "\n",
    "- **Punkt** `.`: ein beliebiges Zeichen (außer Zeilenumbruch, außer mit `DOTALL`)\n",
    "- **Quantoren**: `*` (0+), `+` (1+), `?` (0/1), `{m}`, `{m,}`, `{m,n}`\n",
    "- **Zeichenklassen**: `[abc]`, `[A-Z]`, `\\d` (Ziffer), `\\w` (alphanum + `_`), `\\s` (Whitespace) und Negationen `\\D`, `\\W`, `\\S`\n",
    "- **Anker**: `^` (Anfang), `$` (Ende), `\\b` (Wortgrenze)\n",
    "- **Gruppen**: `( ... )`, **Alternativen**: `A|B`\n",
    "- **Lookarounds**: `(?=...)` (Lookahead), `(?!...)` (neg. Lookahead), `(?<=...)` (Lookbehind), `(?<!...)` (neg. Lookbehind)\n"
   ]
  },
  {
   "cell_type": "markdown",
   "id": "53ff1bf5",
   "metadata": {},
   "source": [
    "## 2) Grundlegende Suche mit `findall`"
   ]
  },
  {
   "cell_type": "code",
   "execution_count": 2,
   "id": "6c687137",
   "metadata": {},
   "outputs": [
    {
     "name": "stdout",
     "output_type": "stream",
     "text": [
      "\n",
      "================================================\n",
      "Wörter, die mit Großbuchstaben beginnen (Latein)\n",
      "================================================\n",
      "['Anno', 'Romani', 'Helvetios', 'Tullius', 'Cicero', 'Romano', 'Kal', 'Mart', 'In']\n",
      "\n",
      "========================================================\n",
      "Alle römisch anmutenden Abkürzungen wie 'M.' oder 'Kal.'\n",
      "========================================================\n",
      "['M.', 'Kal.', 'Mart.']\n",
      "\n",
      "===========================================\n",
      "Deutsche Datumsangaben im Format DD.MM.YYYY\n",
      "===========================================\n",
      "['12.03.1525']\n",
      "\n",
      "=================================\n",
      "Signaturen wie 'A-017' oder 'B-3'\n",
      "=================================\n",
      "['A-017', 'B-3']\n"
     ]
    }
   ],
   "source": [
    "headline(\"Wörter, die mit Großbuchstaben beginnen (Latein)\")\n",
    "print(re.findall(r\"\\b[A-Z][a-z]+\\b\", latin_snippet))\n",
    "\n",
    "headline(\"Alle römisch anmutenden Abkürzungen wie 'M.' oder 'Kal.'\")\n",
    "print(re.findall(r\"\\b[A-Z][a-z]*\\.\", latin_snippet))\n",
    "\n",
    "headline(\"Deutsche Datumsangaben im Format DD.MM.YYYY\")\n",
    "print(re.findall(r\"\\b\\d{1,2}\\.\\d{1,2}\\.\\d{4}\\b\", german_snippet))\n",
    "\n",
    "headline(\"Signaturen wie 'A-017' oder 'B-3'\")\n",
    "print(re.findall(r\"\\b[A-Z]-\\d{1,3}\\b\", german_snippet))"
   ]
  },
  {
   "cell_type": "markdown",
   "id": "5a0200c1",
   "metadata": {},
   "source": [
    "## 3) `search` & Spannen (`span`)"
   ]
  },
  {
   "cell_type": "code",
   "execution_count": 3,
   "id": "e0c66a50",
   "metadata": {},
   "outputs": [
    {
     "name": "stdout",
     "output_type": "stream",
     "text": [
      "<re.Match object; span=(79, 85), match='Cicero'>\n",
      "Span: (79, 85)\n",
      "Gefundenes Stück: Cicero\n"
     ]
    }
   ],
   "source": [
    "m = re.search(r\"\\bCicero\\b\", latin_snippet)\n",
    "print(m)\n",
    "if m:\n",
    "    print(\"Span:\", m.span())\n",
    "    start, end = m.span()\n",
    "    print(\"Gefundenes Stück:\", latin_snippet[start:end])"
   ]
  },
  {
   "cell_type": "markdown",
   "id": "0e63b00e",
   "metadata": {},
   "source": [
    "## 4) `re.compile` – einmal definieren, oft benutzen"
   ]
  },
  {
   "cell_type": "code",
   "execution_count": 4,
   "id": "0263c4f8",
   "metadata": {},
   "outputs": [
    {
     "name": "stdout",
     "output_type": "stream",
     "text": [
      "['Anno', 'Romani', 'Helvetios', 'Tullius', 'Cicero', 'Romano', 'Kal', 'Mart', 'In']\n"
     ]
    }
   ],
   "source": [
    "name_pat = re.compile(r\"\\b[A-Z][a-z]+\\b\")\n",
    "print(name_pat.findall(latin_snippet))"
   ]
  },
  {
   "cell_type": "markdown",
   "id": "fbcb8278",
   "metadata": {},
   "source": [
    "## 5) `finditer` für strukturierte Extraktion"
   ]
  },
  {
   "cell_type": "code",
   "execution_count": 6,
   "id": "a3b10ff9",
   "metadata": {},
   "outputs": [
    {
     "name": "stdout",
     "output_type": "stream",
     "text": [
      "{'Abkürzung': 'M.', 'Name': 'Tullius', 'span': (68, 78)}\n",
      "{'Abkürzung': 'Kal.', 'Name': 'Mart', 'span': (127, 136)}\n"
     ]
    }
   ],
   "source": [
    "pattern = re.compile(r\"\\b([A-Z][a-z]*\\.)\\s+([A-Z][a-z]+)\\b\")  # z.B. 'M. Tullius'\n",
    "for match in pattern.finditer(latin_snippet):\n",
    "    abbr, cognomen = match.groups()\n",
    "    print({\"Abkürzung\": abbr, \"Name\": cognomen, \"span\": match.span()})"
   ]
  },
  {
   "cell_type": "markdown",
   "id": "d051dd52",
   "metadata": {},
   "source": [
    "## 6) Gruppen & Named Groups"
   ]
  },
  {
   "cell_type": "code",
   "execution_count": 7,
   "id": "0ec4add5",
   "metadata": {},
   "outputs": [
    {
     "name": "stdout",
     "output_type": "stream",
     "text": [
      "Tag: 12 Monat: 03 Jahr: 1525\n"
     ]
    }
   ],
   "source": [
    "date_pattern = re.compile(r\"(?P<tag>\\d{2})\\.(?P<monat>\\d{2})\\.(?P<jahr>\\d{4})\")\n",
    "for m in date_pattern.finditer(german_snippet):\n",
    "    print(\"Tag:\", m.group(\"tag\"), \"Monat:\", m.group(\"monat\"), \"Jahr:\", m.group(\"jahr\"))"
   ]
  },
  {
   "cell_type": "markdown",
   "id": "67886402",
   "metadata": {},
   "source": [
    "## 7) Greedy vs. Non-greedy"
   ]
  },
  {
   "cell_type": "code",
   "execution_count": 8,
   "id": "4acf10c8",
   "metadata": {},
   "outputs": [
    {
     "name": "stdout",
     "output_type": "stream",
     "text": [
      "\n",
      "===========\n",
      "Greedy (.*)\n",
      "===========\n",
      "['»Wir bestellten die Wächter; die Tore blieben zu.« Weiter heißt es: »Dies sei bekannt.«']\n",
      "\n",
      "================\n",
      "Non-greedy (.*?)\n",
      "================\n",
      "['»Wir bestellten die Wächter; die Tore blieben zu.«', '»Dies sei bekannt.«']\n"
     ]
    }
   ],
   "source": [
    "quote_text = \"In der Chronik steht: »Wir bestellten die Wächter; die Tore blieben zu.« Weiter heißt es: »Dies sei bekannt.«\"\n",
    "headline(\"Greedy (.*)\")\n",
    "print(re.findall(r\"».*«\", quote_text))\n",
    "\n",
    "headline(\"Non-greedy (.*?)\")\n",
    "print(re.findall(r\"».*?«\", quote_text))"
   ]
  },
  {
   "cell_type": "markdown",
   "id": "6927ae4c",
   "metadata": {},
   "source": [
    "## 8) Lookahead & Lookbehind"
   ]
  },
  {
   "cell_type": "code",
   "execution_count": 9,
   "id": "3ab5c6a0",
   "metadata": {},
   "outputs": [
    {
     "name": "stdout",
     "output_type": "stream",
     "text": [
      "\n",
      "=======================================================================\n",
      "Lookahead: Wörter 'in' und 'In', denen ein Wort mit 'd' folgt (Deutsch)\n",
      "=======================================================================\n",
      "['\\nIn']\n",
      "\n",
      "==============================================\n",
      "Lookbehind: 'in' unmittelbar nach 't' (Latein)\n",
      "==============================================\n",
      "['in']\n",
      "\n",
      "=========================================================\n",
      "Kombiniert: Wort vor 'in' endet auf 't', danach folgt 'f'\n",
      "=========================================================\n",
      "['in']\n"
     ]
    }
   ],
   "source": [
    "headline(\"Lookahead: Wörter 'in' und 'In', denen ein Wort mit 'd' folgt (Deutsch)\")\n",
    "print(re.findall(r\"\\s[Ii]n(?=\\s[dD])\", german_snippet))\n",
    "\n",
    "headline(\"Lookbehind: 'in' unmittelbar nach 't' (Latein)\")\n",
    "print(re.findall(r\"(?<=t\\s)in\\b\", latin_snippet))\n",
    "\n",
    "headline(\"Kombiniert: Wort vor 'in' endet auf 't', danach folgt 'f'\")\n",
    "print(re.findall(r\"(?<=t\\s)in(?=\\sf)\", latin_snippet))"
   ]
  },
  {
   "cell_type": "markdown",
   "id": "746085ea",
   "metadata": {},
   "source": [
    "## 9) Alternativen & Backreferences"
   ]
  },
  {
   "cell_type": "code",
   "execution_count": 11,
   "id": "7662fa75",
   "metadata": {},
   "outputs": [
    {
     "name": "stdout",
     "output_type": "stream",
     "text": [
      "\n",
      "======================================================\n",
      "Alternativen: Monatskürzel (Kal.|Id.|Non.) extrahieren\n",
      "======================================================\n",
      "[]\n",
      "\n",
      "====================================================\n",
      "Backreference: doppelte Anführungen »...« oder „...“\n",
      "====================================================\n",
      "[('»', 'Salvete!« sagte er. „Valete!“ antwortete sie. ')]\n"
     ]
    }
   ],
   "source": [
    "headline(\"Alternativen: Monatskürzel (Kal.|Id.|Non.) extrahieren\")\n",
    "print(re.findall(r\"\\b(Kal\\.|Id\\.|Non\\.)\\b\", latin_snippet))\n",
    "\n",
    "headline(\"Backreference: doppelte Anführungen »...« oder „...“\")\n",
    "mixed = \"»Salvete!« sagte er. „Valete!“ antwortete sie. »Iterum?«\"\n",
    "print(re.findall(r\"(»|„|«)(.*?)\\1\", mixed))  # Gruppe 1 wird am Ende wiederverwendet"
   ]
  },
  {
   "cell_type": "markdown",
   "id": "ba810c2d",
   "metadata": {},
   "source": [
    "## 10) `re.sub`: Cleanup-Beispiele"
   ]
  },
  {
   "cell_type": "code",
   "execution_count": 12,
   "id": "81ce51f3",
   "metadata": {},
   "outputs": [
    {
     "name": "stdout",
     "output_type": "stream",
     "text": [
      "Vorher: trans-\n",
      "marinus nego-\n",
      "tium per-\n",
      "actum\n",
      "Nachher: transmarinus negotium peractum\n",
      "Vorher: C(aius) Iul[i]us prae[f]ectus\n",
      "Nachher: Caius Iulius praefectus\n"
     ]
    }
   ],
   "source": [
    "# Beispiel 1: Bindestrich-Trennungen über Zeilen umbrechen (OCR)\n",
    "ocr = \"trans-\\nmarinus nego-\\ntium per-\\nactum\"\n",
    "fixed = re.sub(r\"-\\n\", \"\", ocr)   # weiches Silbentrennzeichen entfernen\n",
    "print(\"Vorher:\", ocr)\n",
    "print(\"Nachher:\", fixed)\n",
    "\n",
    "# Beispiel 2: Editionszeichen entfernen: eckige Klammern & Klammerauflösungen\n",
    "edition = \"C(aius) Iul[i]us prae[f]ectus\"\n",
    "clean = re.sub(r\"[\\[\\])(]\", \"\", edition)\n",
    "print(\"Vorher:\", edition)\n",
    "print(\"Nachher:\", clean)"
   ]
  },
  {
   "cell_type": "markdown",
   "id": "442aaee2",
   "metadata": {},
   "source": [
    "## 11) `re.split`, Flags (`IGNORECASE`, `MULTILINE`, `DOTALL`, `VERBOSE`)"
   ]
  },
  {
   "cell_type": "code",
   "execution_count": 15,
   "id": "62b011fd",
   "metadata": {},
   "outputs": [
    {
     "name": "stdout",
     "output_type": "stream",
     "text": [
      "['Roma vicit', 'sed pax servanda est', 'quid tum', '']\n",
      "['caput I', 'Caput II', 'caput III']\n",
      "['Titulus: Res Gestae\\n---\\nDivi']\n"
     ]
    }
   ],
   "source": [
    "# Split an Satzendzeichen (einfach, nicht linguistisch vollständig)\n",
    "text = \"Roma vicit. sed pax servanda est! quid tum?\"\n",
    "print(re.split(r\"[.!?]\\s*\", text))\n",
    "\n",
    "# Flags: IGNORECASE & MULTILINE\n",
    "multi = \"caput I\\nCaput II\\ncaput III\"\n",
    "print(re.findall(r\"^caput\\s+[IVX]+$\", multi, flags=re.IGNORECASE|re.MULTILINE))\n",
    "\n",
    "# DOTALL: Punkt matcht Zeilenumbrüche\n",
    "block = \"Titulus: Res Gestae\\n---\\nDivi Augusti\"\n",
    "print(re.findall(r\"Titulus:.*Divi\", block, flags=re.DOTALL))\n",
    "\n",
    "# VERBOSE: Lesbares Pattern (mit Kommentaren)\n",
    "pattern = re.compile(r\"\"\"\n",
    "    (?P<id>[A-Z]-\\d{1,3})     # Signatur wie A-017\n",
    "    \\s+an\\s+Tor\\s+\n",
    "    (?P<tor>[A-Z]-\\d)         # Torkennung wie B-3\n",
    "\"\"\", re.VERBOSE)\n",
    "for m in pattern.finditer(german_snippet):\n",
    "    print(m.groupdict())"
   ]
  },
  {
   "cell_type": "markdown",
   "id": "f9c58962",
   "metadata": {},
   "source": [
    "\n",
    "## 12) Mini-Aufgaben\n",
    "\n",
    "**A1.** Extrahiere aus `latin_snippet` alle Datumsangaben römischer Art **(nur)**: `\\b[IVX]+\\b` (z. B. `VIII`).  \n",
    "Wandle die Treffer in eine Liste eindeutiger Werte um.\n",
    "\n",
    "**A2.** Finde im `german_snippet` alle **Anführungssegmente** in »…« **und** „…“. Gib den **Inhalt ohne Anführungszeichen** aus.\n",
    "\n",
    "**A3.** Ersetze im `german_snippet` alle **Bindestrich-Signaturen** `A-017`, `B-3` durch die Form `A.017`, `B.3` (mittels `re.sub`).\n",
    "\n",
    "**A4.** Nutze einen **Lookbehind**, um alle Vorkommen von `in` zu finden, denen **sofort** ein Wort folgt, das mit **Buchstaben** beginnt (kein Digit).\n",
    "\n",
    "---\n",
    "**Lösungsskizzen** (Zellen unten ausführen, aber versuche es zuerst selbst):\n"
   ]
  },
  {
   "cell_type": "code",
   "execution_count": null,
   "id": "e718eb55",
   "metadata": {},
   "outputs": [],
   "source": [
    "# Lösungsskizze A1\n",
    "roman_dates = set(re.findall(r\"\\b[IVX]+\\b\", latin_snippet))\n",
    "print(sorted(roman_dates))"
   ]
  },
  {
   "cell_type": "code",
   "execution_count": null,
   "id": "def06268",
   "metadata": {},
   "outputs": [],
   "source": [
    "# Lösungsskizze A2\n",
    "quotes = re.findall(r\"(»|„)(.*?)\\1\", german_snippet)\n",
    "contents = [c for _, c in quotes]\n",
    "print(contents)"
   ]
  },
  {
   "cell_type": "code",
   "execution_count": null,
   "id": "eba9b98f",
   "metadata": {},
   "outputs": [],
   "source": [
    "# Lösungsskizze A3\n",
    "print(re.sub(r\"\\b([A-Z])-(\\d{1,3})\\b\", r\"\\1.\\2\", german_snippet))"
   ]
  },
  {
   "cell_type": "code",
   "execution_count": null,
   "id": "19a83933",
   "metadata": {},
   "outputs": [],
   "source": [
    "# Lösungsskizze A4\n",
    "print(re.findall(r\"\\bin(?=\\s[\\p{L}A-Za-z])\", german_snippet))  # Fallback: A-Za-z falls \\p{L} nicht unterstützt\n",
    "# Robustere Variante ohne \\p{L}:\n",
    "print(re.findall(r\"\\bin(?=\\s[A-Za-zÄÖÜäöüß])\", german_snippet))"
   ]
  },
  {
   "cell_type": "markdown",
   "id": "f10cff52",
   "metadata": {},
   "source": [
    "\n",
    "## 13) Weiterführend\n",
    "- Python-Doku `re`: https://docs.python.org/3/library/re.html  \n",
    "- Online-Tester: https://regex101.com (hilfreich zum Debuggen)\n",
    "- Faustregeln:\n",
    "  - Greedy → oft zu weitreichend → mit `?` **non-greedy** machen\n",
    "  - **Lookarounds** für kontextsensitives Matching, ohne Kontext mitzumatchen\n",
    "  - Bei Editionstexten: **erst reinigen**, dann extrahieren\n",
    "  - Komplexe Muster → **`re.VERBOSE`** nutzen (lesbar + kommentierbar)\n"
   ]
  }
 ],
 "metadata": {
  "kernelspec": {
   "display_name": "Python 3 (ipykernel)",
   "language": "python",
   "name": "python3"
  },
  "language_info": {
   "codemirror_mode": {
    "name": "ipython",
    "version": 3
   },
   "file_extension": ".py",
   "mimetype": "text/x-python",
   "name": "python",
   "nbconvert_exporter": "python",
   "pygments_lexer": "ipython3",
   "version": "3.12.2"
  }
 },
 "nbformat": 4,
 "nbformat_minor": 5
}
