{
 "cells": [
  {
   "cell_type": "markdown",
   "metadata": {},
   "source": [
    "# Übung 2 – Reguläre Ausdrücke und If-Else-Statements mit XML-Daten\n",
    "\n",
    "## Kurs: *Von der Pythia zu Python – Einführung in die Programmierung für die Geschichtsforschung (HS 2025)*\n",
    "**Abgabedatum:** 27. Oktober 2025  \n",
    "**Themen:** Reguläre Ausdrücke (`re`‑Modul) & Entscheidungslogik (`if`, `elif`, `else`) in Kombination mit XML‑Parsing\n",
    "\n",
    "Ziel dieser Übung ist es, epigraphische Textdaten aus der *Inscriptions of Roman Tripolitania (IRT 2021)* automatisch zu analysieren.  \n",
    "Du lernst, wie man:\n",
    "- XML‑Dateien mit `xml.etree.ElementTree` einliest,\n",
    "- mit **Regulären Ausdrücken** Namen, Orte und Datierungen erkennt,\n",
    "- mit **If‑Else‑Statements** einfache Klassifikationen vornimmt,\n",
    "- Variablen, Listen, Dictionaries und Loops gezielt einsetzt.\n"
   ]
  },
  {
   "cell_type": "markdown",
   "metadata": {},
   "source": [
    "## 📜 Teil A – Vorbereitung\n",
    "\n",
    "Importieree zuerst die benötigten Module und laden nacheinander alle XML‑Dateien aus der Sammlung IRT 2021.\n",
    "Sammle alle Zeilen auf und beantworte folgende Fragen mit dem entsprechenden Code:\n",
    " 1. Wie viele sind vorhanden?\n",
    " 2. Wie viele Zeilen enthält eine Inschrift im Durchschnitt?\n",
    " 3. Welche Inschrift hat die meisten Zeilen?\n",
    " 4. Welche die wenigsten?"
   ]
  },
  {
   "cell_type": "code",
   "execution_count": 2,
   "metadata": {},
   "outputs": [],
   "source": [
    "# Dein Code hier"
   ]
  },
  {
   "cell_type": "markdown",
   "metadata": {},
   "source": [
    "## 🧩 Teil B – Informationen mit Regulären Ausdrücken extrahieren\n",
    "\n",
    "1. Erstelle ein Muster, das **Namen**, die auf *A*, *‑VS*, *‑US* enden, erkennt.  \n",
    "2. Finde alle **Ortsnamen**. Welcher ist am häufigsten?  \n",
    "3. Suche nach **Datierungen** in römischen Zahlen (z. B. `CLXXX`, `CCII`).  \n",
    "\n"
   ]
  },
  {
   "cell_type": "code",
   "execution_count": 1,
   "metadata": {},
   "outputs": [],
   "source": [
    "# Dein Code hier"
   ]
  },
  {
   "cell_type": "markdown",
   "metadata": {},
   "source": [
    "## ⚖️ Teil C – Klassifikation mit If‑Else\n",
    "\n",
    "Ergänze nun einen Codeblock, der für jeden Inschriftentext entscheidet:\n",
    "1. in welcher Epoche sie liegt: Republik, frühe Kaiserzeit, späte Kaiserzeit, oder Spätantike (lege die Zeitbereiche selbst fest) \n",
    "2. Versuche, die Inschriften aufgrund der Wörter, die darin vorkommen in Grabinschriften, Votivinschriften (Weihinschriften) und militärische Inschriften einzuteilen.\n"
   ]
  },
  {
   "cell_type": "code",
   "execution_count": null,
   "metadata": {},
   "outputs": [],
   "source": [
    "# Dein Code hier"
   ]
  },
  {
   "cell_type": "markdown",
   "metadata": {},
   "source": [
    "## 🧠 Teil D – Reflexion\n",
    "\n",
    "Beantworte kurz (2–3 Sätze) in einer Markdown‑Zelle:\n",
    "1. Wie zuverlässig sind RegEx‑Muster bei TEI‑XML‑Inschriften?\n",
    "2. Welche Fehlerquellen können bei Parsing und Klassifikation auftreten?\n",
    "3. Wie könntest du die Erkennung verbessern (z. B. durch XPath oder NER)?"
   ]
  },
  {
   "cell_type": "markdown",
   "metadata": {},
   "source": [
    "#### Deine Antwort hier:\n"
   ]
  },
  {
   "cell_type": "markdown",
   "metadata": {},
   "source": [
    "---\n",
    "### 💬 Hinweis zur Abgabe\n",
    "Speichere dein ausgefülltes Notebook als `uebung_2_kap4_5.ipynb` und lade es bis **27. Oktober 2025** auf **OLAT → Abgaben → Übung 2** hoch."
   ]
  },
  {
   "cell_type": "code",
   "execution_count": null,
   "metadata": {},
   "outputs": [],
   "source": []
  }
 ],
 "metadata": {
  "kernelspec": {
   "display_name": "Python 3 (ipykernel)",
   "language": "python",
   "name": "python3"
  },
  "language_info": {
   "codemirror_mode": {
    "name": "ipython",
    "version": 3
   },
   "file_extension": ".py",
   "mimetype": "text/x-python",
   "name": "python",
   "nbconvert_exporter": "python",
   "pygments_lexer": "ipython3",
   "version": "3.12.2"
  }
 },
 "nbformat": 4,
 "nbformat_minor": 4
}
