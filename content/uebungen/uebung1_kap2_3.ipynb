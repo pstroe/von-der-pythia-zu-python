{
 "cells": [
  {
   "cell_type": "markdown",
   "id": "9133d11f",
   "metadata": {},
   "source": [
    "# Übung 1 — Variablen, Datentypen und Datenstrukturen\n",
    "**Kurs:** Von der Pythia zu Python (HS 2025)  \n",
    "**Kapitel:** 2 (Variablen & Datentypen) und 3 (Datenstrukturen & Loops)  \n",
    "**Abgabe:** **6.10.2025**  \n",
    "**Maximalpunktzahl:** **10**\n",
    "\n",
    "**Hinweise**\n",
    "- Antworte **direkt** in die vorgesehenen Zellen (Code- oder Textzellen „Antwort“).\n",
    "- Füge keine externen Bibliotheken hinzu.\n",
    "- Nutze aussagekräftige Variablennamen und f-Strings, wo sinnvoll.\n",
    "\n",
    "---\n"
   ]
  },
  {
   "cell_type": "markdown",
   "id": "d8ea20a7",
   "metadata": {},
   "source": [
    "## Aufgabe 1 – Variablen im Vergleich (2 Punkte)\n",
    "\n",
    "Lege Variablen für folgende Daten an:\n",
    "- **Schlacht bei Hastings**: Jahr `1066`, Sieger `\"Wilhelm der Eroberer\"`, Königskrönung in Westminster = `True`\n",
    "- **Mauerfall in Berlin**: Jahr `1989`, Ort `\"Berlin\"`, `friedlich = True`\n",
    "\n",
    "a) Erstelle für beide Ereignisse Variablen in Python mit passenden Datentypen.  \n",
    "b) Erkläre in **3–4 Sätzen**, warum sich die gewählten Datentypen eignen und welche Konflikte auftreten könnten, wenn man falsche Typen wählen würde.\n"
   ]
  },
  {
   "cell_type": "code",
   "execution_count": 1,
   "id": "32259e31",
   "metadata": {},
   "outputs": [],
   "source": [
    "# === Aufgabe 1a: Code hier ===\n",
    "\n"
   ]
  },
  {
   "cell_type": "markdown",
   "id": "79c7190b",
   "metadata": {},
   "source": [
    "**Aufgabe 1b – Antwort (Text):**  \n",
    "_Skizziere hier in 3–4 Sätzen die Datentypenwahl und mögliche Typkonflikte (z. B. String vs. Integer, Bool)._"
   ]
  },
  {
   "cell_type": "markdown",
   "id": "b7b0b644",
   "metadata": {},
   "source": [
    "## Aufgabe 2 – Arbeiten mit Strings (2 Punkte)\n",
    "\n",
    "Gegeben sei ein Zitat aus der Französischen Revolution:\n",
    "\n",
    "\"Liberté, égalité, fraternité\"\n",
    "\n",
    "a) Verwende `len()`, um die Länge des Strings zu berechnen.  \n",
    "b) Zerlege den String mit `.split(\", \")` in eine Liste und gib **jedes** Element in einer **eigenen Zeile** aus (mit einem `for`-Loop).  \n",
    "c) Erkläre kurz (2–3 Sätze), warum Strings und Listen hier sinnvoll zusammenspielen.\n"
   ]
  },
  {
   "cell_type": "code",
   "execution_count": 2,
   "id": "d102378e",
   "metadata": {},
   "outputs": [],
   "source": [
    "# === Aufgabe 2a/b: Code hier ===\n"
   ]
  },
  {
   "cell_type": "markdown",
   "id": "90be515d",
   "metadata": {},
   "source": [
    "**Aufgabe 2c – Antwort (Text):**  \n",
    "_Beschreibe kurz, warum die Transformation String → Liste → Iteration hier sinnvoll ist (z. B. Tokenisierung, Verarbeitung einzelner Begriffe)._"
   ]
  },
  {
   "cell_type": "markdown",
   "id": "0bb13cad",
   "metadata": {},
   "source": [
    "## Aufgabe 3 – Mutierbarkeit verstehen (2 Punkte)\n",
    "\n",
    "Definiere eine Liste mit den Jahren der **Kreuzzüge**:\n",
    "1096, 1147, 1189, 1202\n",
    "\n",
    "a) Fügen das Jahr `1270` hinzu.  \n",
    "b) Ändere das Jahr `1202` in `1204` ab.  \n",
    "c) Erkläre in **2–3 Sätzen**, warum Listen im Gegensatz zu Strings **mutierbar** sind und was das für die Modellierung historischer Daten bedeutet.\n"
   ]
  },
  {
   "cell_type": "code",
   "execution_count": 3,
   "id": "c740591f",
   "metadata": {},
   "outputs": [],
   "source": [
    "# === Aufgabe 3a/b: Code hier ===\n",
    "\n"
   ]
  },
  {
   "cell_type": "markdown",
   "id": "8f81e78a",
   "metadata": {},
   "source": [
    "**Aufgabe 3c – Antwort (Text):**  \n",
    "_Erläutere hier Mutierbarkeit (Listen) vs. Nicht-Mutierbarkeit (Strings/Integers) und die Konsequenzen für Datenmodelle (Versionierung, Korrekturen)._"
   ]
  },
  {
   "cell_type": "markdown",
   "id": "ae9e1d49",
   "metadata": {},
   "source": [
    "## Aufgabe 4 – Sets und Schnittmengen (2 Punkte)\n",
    "\n",
    "Zwei Forscherteams untersuchen Bibliotheksbestände:\n",
    "\n",
    "Team A: Codex Manesse, Nibelungenlied, Biblia Latina, De civitate Dei\n",
    "Team B: Nibelungenlied, De civitate Dei, Summa Theologica\n",
    "\n",
    "a) Bestimme mit einer Mengenoperation die **gemeinsamen Werke**.  \n",
    "b) Gib die **Gesamtzahl** der unterschiedlichen Werke an.\n"
   ]
  },
  {
   "cell_type": "code",
   "execution_count": 4,
   "id": "7e412535",
   "metadata": {},
   "outputs": [],
   "source": [
    "# === Aufgabe 4a/b: Code hier ===\n",
    "\n"
   ]
  },
  {
   "cell_type": "markdown",
   "id": "526aae78",
   "metadata": {},
   "source": [
    "## Aufgabe 5 – Listen von Dictionaries & Loops (2 Punkte, antikes Beispiel)\n",
    "\n",
    "Du modellierst **römische Kaiser** als Liste von Dictionaries. Hier die Informationen in der Form \"Kaisername\", \"Regierungszeit\", \"Dynastie\":\n",
    "\n",
    "Augustus, 41, Julisch-Claudisch\n",
    "Hadrian, 21, Adoptivkaiser\n",
    "Marcus Aurelius, 19, Antoninisch\n",
    "\n",
    "-> Bringe diese Informationen in ein Dictionary.\n",
    "\n",
    "a) Schreibe einen `for`-Loop, der für jeden Eintrag einen Satz ausgibt, z. B.  \n",
    "```\n",
    "Hadrian (Adoptivkaiser) regierte 21 Jahre.\n",
    "```\n",
    "b) Ergänze den Code so, dass am Ende auch die **durchschnittliche Regierungszeit** berechnet und ausgegeben wird.\n"
   ]
  },
  {
   "cell_type": "code",
   "execution_count": 5,
   "id": "70e7c193",
   "metadata": {},
   "outputs": [],
   "source": [
    "# === Aufgabe 5a/b: Code hier ===\n"
   ]
  },
  {
   "cell_type": "markdown",
   "id": "416cd501",
   "metadata": {},
   "source": [
    "\n",
    "Viel Erfolg!\n"
   ]
  },
  {
   "cell_type": "code",
   "execution_count": null,
   "id": "22e4b4a8-411d-4b79-afd3-7a54766828da",
   "metadata": {},
   "outputs": [],
   "source": []
  }
 ],
 "metadata": {
  "kernelspec": {
   "display_name": "Python 3 (ipykernel)",
   "language": "python",
   "name": "python3"
  },
  "language_info": {
   "codemirror_mode": {
    "name": "ipython",
    "version": 3
   },
   "file_extension": ".py",
   "mimetype": "text/x-python",
   "name": "python",
   "nbconvert_exporter": "python",
   "pygments_lexer": "ipython3",
   "version": "3.12.2"
  }
 },
 "nbformat": 4,
 "nbformat_minor": 5
}
