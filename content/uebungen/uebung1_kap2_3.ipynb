{
 "cells": [
  {
   "cell_type": "markdown",
   "id": "9133d11f",
   "metadata": {},
   "source": [
    "# Übung 1 — Variablen, Datentypen und Datenstrukturen\n",
    "**Kurs:** Von der Pythia zu Python (HS 2025)  \n",
    "**Kapitel:** 2 (Variablen & Datentypen) und 3 (Datenstrukturen & Loops)  \n",
    "**Abgabe:** **6.10.2025**  \n",
    "**Maximalpunktzahl:** **10**\n",
    "\n",
    "**Hinweise**\n",
    "- Antworten Sie **direkt** in die vorgesehenen Zellen (Code- oder Textzellen „Antwort“).\n",
    "- Fügen Sie keine externen Bibliotheken hinzu.\n",
    "- Nutzen Sie aussagekräftige Variablennamen und f-Strings, wo sinnvoll.\n",
    "- Achten Sie auf Schweizer Rechtschreibung.\n",
    "\n",
    "---\n"
   ]
  },
  {
   "cell_type": "markdown",
   "id": "d8ea20a7",
   "metadata": {},
   "source": [
    "## Aufgabe 1 – Variablen im Vergleich (2 Punkte)\n",
    "\n",
    "Lege Variablen für folgende Daten an:\n",
    "- **Schlacht bei Hastings**: Jahr `1066`, Sieger `\"Wilhelm der Eroberer\"`, Königskrönung in Westminster = `True`\n",
    "- **Mauerfall in Berlin**: Jahr `1989`, Ort `\"Berlin\"`, `friedlich = True`\n",
    "\n",
    "a) Erstelle für beide Ereignisse Variablen in Python mit passenden Datentypen.  \n",
    "b) Erkläre in **3–4 Sätzen**, warum sich die gewählten Datentypen eignen und welche Konflikte auftreten könnten, wenn man falsche Typen wählen würde.\n"
   ]
  },
  {
   "cell_type": "code",
   "execution_count": null,
   "id": "32259e31",
   "metadata": {},
   "outputs": [],
   "source": [
    "# === Aufgabe 1a: Code hier ===\n",
    "# Beispielstruktur (Sie können sinnvolle Variablennamen wählen):\n",
    "hastings_jahr = 1066\n",
    "hastings_sieger = \"Wilhelm der Eroberer\"\n",
    "hastings_koenigskroenung_westminster = True\n",
    "\n",
    "mauerfall_jahr = 1989\n",
    "mauerfall_ort = \"Berlin\"\n",
    "mauerfall_friedlich = True\n",
    "\n",
    "# Beispielausgaben (gern per f-String formatiert):\n",
    "print(f\"Hastings {hastings_jahr}: Sieger = {hastings_sieger}, Krönung Westminster? {hastings_koenigskroenung_westminster}\")\n",
    "print(f\"Mauerfall {mauerfall_jahr} in {mauerfall_ort}, friedlich? {mauerfall_friedlich}\")\n"
   ]
  },
  {
   "cell_type": "markdown",
   "id": "79c7190b",
   "metadata": {},
   "source": [
    "**Aufgabe 1b – Antwort (Text):**  \n",
    "_Skizzieren Sie hier in 3–4 Sätzen die Datentypenwahl und mögliche Typkonflikte (z. B. String vs. Integer, Bool)._"
   ]
  },
  {
   "cell_type": "markdown",
   "id": "b7b0b644",
   "metadata": {},
   "source": [
    "## Aufgabe 2 – Arbeiten mit Strings (2 Punkte)\n",
    "\n",
    "Gegeben sei ein Zitat aus der Französischen Revolution:\n",
    "```python\n",
    "zitat = \"Liberté, égalité, fraternité\"\n",
    "```\n",
    "a) Verwenden Sie `len()`, um die Länge des Strings zu berechnen.  \n",
    "b) Zerlegen Sie den String mit `.split(\", \")` in eine Liste und geben Sie **jedes** Element in einer **eigenen Zeile** aus (mit einem `for`-Loop).  \n",
    "c) Erklären Sie kurz (2–3 Sätze), warum Strings und Listen hier sinnvoll zusammenspielen.\n"
   ]
  },
  {
   "cell_type": "code",
   "execution_count": null,
   "id": "d102378e",
   "metadata": {},
   "outputs": [],
   "source": [
    "# === Aufgabe 2a/b: Code hier ===\n",
    "zitat = \"Liberté, égalité, fraternité\"\n",
    "\n",
    "laenge = len(zitat)\n",
    "print(\"Länge des Zitats:\", laenge)\n",
    "\n",
    "teile = zitat.split(\", \")\n",
    "for wort in Teile if False else parts if False else []:\n",
    "    pass  # Platzhalter, bitte unten korrekt lösen\n",
    "\n",
    "# Bitte unten korrekt lösen:\n",
    "parts = zitat.split(\", \")\n",
    "for item in parts:\n",
    "    print(item)\n"
   ]
  },
  {
   "cell_type": "markdown",
   "id": "90be515d",
   "metadata": {},
   "source": [
    "**Aufgabe 2c – Antwort (Text):**  \n",
    "_Beschreiben Sie kurz, warum die Transformation String → Liste → Iteration hier sinnvoll ist (z. B. Tokenisierung, Verarbeitung einzelner Begriffe)._"
   ]
  },
  {
   "cell_type": "markdown",
   "id": "0bb13cad",
   "metadata": {},
   "source": [
    "## Aufgabe 3 – Mutierbarkeit verstehen (2 Punkte)\n",
    "\n",
    "Definieren Sie eine Liste mit den Jahren der **Kreuzzüge**:\n",
    "```python\n",
    "kreuzzuege = [1096, 1147, 1189, 1202]\n",
    "```\n",
    "a) Fügen Sie mit `.append()` das Jahr `1270` hinzu.  \n",
    "b) Ändern Sie das Jahr `1202` in `1204` ab.  \n",
    "c) Erklären Sie in **2–3 Sätzen**, warum Listen im Gegensatz zu Strings **mutierbar** sind und was das für die Modellierung historischer Daten bedeutet.\n"
   ]
  },
  {
   "cell_type": "code",
   "execution_count": null,
   "id": "c740591f",
   "metadata": {},
   "outputs": [],
   "source": [
    "# === Aufgabe 3a/b: Code hier ===\n",
    "kreuzzuege = [1096, 1147, 1189, 1202]\n",
    "\n",
    "# a) Jahr 1270 hinzufügen\n",
    "kreuzzuege.append(1270)\n",
    "\n",
    "# b) 1202 in 1204 ändern\n",
    "# (hier Index ermitteln oder direkt ersetzen, falls sicher an letzter Position vor 1270)\n",
    "index_1202 = kreuzzuege.index(1202) if 1202 in kreuzzuege else None\n",
    "if index_1202 is not None:\n",
    "    kreuzzuege[index_1202] = 1204\n",
    "\n",
    "print(\"Aktualisierte Liste der Kreuzzüge:\", kreuzzuege)\n"
   ]
  },
  {
   "cell_type": "markdown",
   "id": "8f81e78a",
   "metadata": {},
   "source": [
    "**Aufgabe 3c – Antwort (Text):**  \n",
    "_Erläutern Sie hier Mutierbarkeit (Listen) vs. Nicht-Mutierbarkeit (Strings/Integers) und die Konsequenzen für Datenmodelle (Versionierung, Korrekturen)._"
   ]
  },
  {
   "cell_type": "markdown",
   "id": "ae9e1d49",
   "metadata": {},
   "source": [
    "## Aufgabe 4 – Sets und Schnittmengen (2 Punkte)\n",
    "\n",
    "Zwei Forscherteams untersuchen Bibliotheksbestände:\n",
    "```python\n",
    "team_a = {\"Codex Manesse\", \"Nibelungenlied\", \"Biblia Latina\", \"De civitate Dei\"}\n",
    "team_b = {\"Nibelungenlied\", \"De civitate Dei\", \"Summa Theologica\"}\n",
    "```\n",
    "a) Bestimmen Sie mit einer Mengenoperation die **gemeinsamen Werke**.  \n",
    "b) Geben Sie die **Gesamtzahl** der unterschiedlichen Werke an.\n"
   ]
  },
  {
   "cell_type": "code",
   "execution_count": null,
   "id": "7e412535",
   "metadata": {},
   "outputs": [],
   "source": [
    "# === Aufgabe 4a/b: Code hier ===\n",
    "team_a = {\"Codex Manesse\", \"Nibelungenlied\", \"Biblia Latina\", \"De civitate Dei\"}\n",
    "team_b = {\"Nibelungenlied\", \"De civitate Dei\", \"Summa Theologica\"}\n",
    "\n",
    "gemeinsam = team_a.intersection(team_b)\n",
    "alle = team_a.union(team_b)\n",
    "\n",
    "print(\"Gemeinsame Werke:\", gemeinsam)\n",
    "print(\"Gesamtzahl unterschiedlicher Werke:\", len(alle))\n"
   ]
  },
  {
   "cell_type": "markdown",
   "id": "526aae78",
   "metadata": {},
   "source": [
    "## Aufgabe 5 – Listen von Dictionaries & Loops (2 Punkte, antikes Beispiel)\n",
    "\n",
    "Du modellierst **römische Kaiser** als Liste von Dictionaries:\n",
    "```python\n",
    "kaiser = [\n",
    "    {\"name\": \"Augustus\", \"regierungszeit\": 41, \"dynastie\": \"Julisch-Claudisch\"},\n",
    "    {\"name\": \"Hadrian\", \"regierungszeit\": 21, \"dynastie\": \"Adoptivkaiser\"},\n",
    "    {\"name\": \"Marcus Aurelius\", \"regierungszeit\": 19, \"dynastie\": \"Antoninisch\"}\n",
    "]\n",
    "```\n",
    "a) Schreibe einen `for`-Loop, der für jeden Eintrag einen Satz ausgibt, z. B.  \n",
    "```\n",
    "Hadrian (Adoptivkaiser) regierte 21 Jahre.\n",
    "```\n",
    "b) Ergänze den Code so, dass am Ende auch die **durchschnittliche Regierungszeit** berechnet und ausgegeben wird.\n"
   ]
  },
  {
   "cell_type": "code",
   "execution_count": null,
   "id": "70e7c193",
   "metadata": {},
   "outputs": [],
   "source": [
    "# === Aufgabe 5a/b: Code hier ===\n",
    "kaiser = [\n",
    "    {\"name\": \"Augustus\", \"regierungszeit\": 41, \"dynastie\": \"Julisch-Claudisch\"},\n",
    "    {\"name\": \"Hadrian\", \"regierungszeit\": 21, \"dynastie\": \"Adoptivkaiser\"},\n",
    "    {\"name\": \"Marcus Aurelius\", \"regierungszeit\": 19, \"dynastie\": \"Antoninisch\"}\n",
    "]\n",
    "\n",
    "# a) Ausgabe der Sätze\n",
    "for eintrag in kaiser:\n",
    "    print(f\"{eintrag['name']} ({eintrag['dynastie']}) regierte {eintrag['regierungszeit']} Jahre.\")\n",
    "\n",
    "# b) Durchschnittliche Regierungszeit\n",
    "gesamt = 0\n",
    "for eintrag in kaiser:\n",
    "    gesamt += eintrag[\"regierungszeit\"]\n",
    "\n",
    "durchschnitt = gesamt / len(kaiser)\n",
    "print(f\"Durchschnittliche Regierungszeit: {durchschnitt:.2f} Jahre\")\n"
   ]
  },
  {
   "cell_type": "markdown",
   "id": "416cd501",
   "metadata": {},
   "source": [
    "---\n",
    "## Bewertung\n",
    "- Aufgabe 1: 2 Punkte  \n",
    "- Aufgabe 2: 2 Punkte  \n",
    "- Aufgabe 3: 2 Punkte  \n",
    "- Aufgabe 4: 2 Punkte  \n",
    "- Aufgabe 5: 2 Punkte  \n",
    "**Total: 10 Punkte**\n",
    "\n",
    "Viel Erfolg!\n"
   ]
  }
 ],
 "metadata": {},
 "nbformat": 4,
 "nbformat_minor": 5
}
