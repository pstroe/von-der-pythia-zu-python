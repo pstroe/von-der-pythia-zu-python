{
 "cells": [
  {
   "cell_type": "markdown",
   "id": "0cbf8630",
   "metadata": {},
   "source": [
    "# Kapitel 7 – Objektorientierte Programmierung mit Manuskripten\n",
    "\n",
    "Dieses Notebook begleitet Kapitel 7 und illustriert die zentralen OOP-Konzepte **anhand von Manuskripten**.\n",
    "- Grundklassen & Objekte\n",
    "- Konstruktor & Attribute\n",
    "- Mutierbarkeit\n",
    "- Methoden\n",
    "- Vererbung & Subklassen\n",
    "- Polymorphie\n",
    "- Spezielle `dunder`-Methoden\n",
    "\n",
    "Alle Beispiele sind neu (kein Rückgriff auf die Beispiele im Skript)."
   ]
  },
  {
   "cell_type": "markdown",
   "id": "05c34f09",
   "metadata": {},
   "source": [
    "## 1) Erste Klasse & Objekte"
   ]
  },
  {
   "cell_type": "code",
   "execution_count": null,
   "id": "31c94019",
   "metadata": {},
   "outputs": [],
   "source": [
    "class Manuskript:\n",
    "    pass\n",
    "\n",
    "m1 = Manuskript()\n",
    "m2 = Manuskript()\n",
    "\n",
    "(type(m1).__name__, type(m2).__name__)\n"
   ]
  },
  {
   "cell_type": "markdown",
   "id": "0a67de40",
   "metadata": {},
   "source": [
    "## 2) Konstruktor `__init__` & Attribute"
   ]
  },
  {
   "cell_type": "code",
   "execution_count": null,
   "id": "bd6c868e",
   "metadata": {},
   "outputs": [],
   "source": [
    "class Manuskript:\n",
    "    def __init__(self, titel, jahr, material):\n",
    "        self.titel = titel\n",
    "        self.jahr = jahr\n",
    "        self.material = material\n",
    "\n",
    "m1 = Manuskript(\"Historia Ecclesiastica\", 950, \"Pergament\")\n",
    "m2 = Manuskript(\"Mathematica Papyrus\", -200, \"Papyrus\")\n",
    "\n",
    "(m1.titel, m1.jahr, m1.material), (m2.titel, m2.jahr, m2.material)\n"
   ]
  },
  {
   "cell_type": "markdown",
   "id": "cecc0df3",
   "metadata": {},
   "source": [
    "## 3) Mutierbarkeit von Objekten"
   ]
  },
  {
   "cell_type": "code",
   "execution_count": null,
   "id": "529a5f53",
   "metadata": {},
   "outputs": [],
   "source": [
    "m1.material  # ursprüngliches Material\n",
    "m1.material = \"Papier\"  # Attribut ändern\n",
    "m1.material\n"
   ]
  },
  {
   "cell_type": "markdown",
   "id": "8c448e53",
   "metadata": {},
   "source": [
    "## 4) Methoden"
   ]
  },
  {
   "cell_type": "code",
   "execution_count": null,
   "id": "78b8db27",
   "metadata": {},
   "outputs": [],
   "source": [
    "class Manuskript:\n",
    "    def __init__(self, titel, jahr, material):\n",
    "        self.titel = titel\n",
    "        self.jahr = jahr\n",
    "        self.material = material\n",
    "\n",
    "    def beschreibe(self):\n",
    "        return f\"'{self.titel}' ({self.jahr}), Material: {self.material}\"\n",
    "\n",
    "m = Manuskript(\"Annales Sangallenses\", 772, \"Pergament\")\n",
    "m.beschreibe()\n"
   ]
  },
  {
   "cell_type": "markdown",
   "id": "5cb7e57f",
   "metadata": {},
   "source": [
    "## 5) Vererbung & Subklassen"
   ]
  },
  {
   "cell_type": "code",
   "execution_count": null,
   "id": "c1847a64",
   "metadata": {},
   "outputs": [],
   "source": [
    "class Manuskript:\n",
    "    def __init__(self, titel, jahr):\n",
    "        self.titel = titel\n",
    "        self.jahr = jahr\n",
    "\n",
    "    def beschreibe(self):\n",
    "        return f\"'{self.titel}' ({self.jahr})\"\n",
    "\n",
    "class Papyrus(Manuskript):\n",
    "    def beschreibe(self):\n",
    "        return f\"Papyrus: '{self.titel}', datiert {self.jahr} v./n. Chr.\"\n",
    "\n",
    "class Pergament(Manuskript):\n",
    "    def beschreibe(self):\n",
    "        return f\"Pergamenthandschrift: '{self.titel}', Jahr {self.jahr}\"\n",
    "\n",
    "class Papier(Manuskript):\n",
    "    def beschreibe(self):\n",
    "        return f\"Papierkodex: '{self.titel}', Jahr {self.jahr}\"\n",
    "\n",
    "docs = [Papyrus(\"Ptolemaios Fragment\", -150), Pergament(\"Biblia Latina\", 1200), Papier(\"Chronik\", 1450)]\n",
    "[d.beschreibe() for d in docs]\n"
   ]
  },
  {
   "cell_type": "markdown",
   "id": "539e63f2",
   "metadata": {},
   "source": [
    "## 6) Polymorphie"
   ]
  },
  {
   "cell_type": "code",
   "execution_count": null,
   "id": "9c22c429",
   "metadata": {},
   "outputs": [],
   "source": [
    "for d in docs:\n",
    "    print(d.beschreibe())\n"
   ]
  },
  {
   "cell_type": "markdown",
   "id": "d51ac24f",
   "metadata": {},
   "source": [
    "## 7) Spezielle `dunder`-Methoden"
   ]
  },
  {
   "cell_type": "code",
   "execution_count": null,
   "id": "88e08aa7",
   "metadata": {},
   "outputs": [],
   "source": [
    "class Manuskript:\n",
    "    def __init__(self, titel, jahr, material):\n",
    "        self.titel = titel\n",
    "        self.jahr = jahr\n",
    "        self.material = material\n",
    "\n",
    "    def __repr__(self):\n",
    "        return f\"Manuskript({self.titel!r}, {self.jahr}, {self.material!r})\"\n",
    "\n",
    "    def __eq__(self, other):\n",
    "        return isinstance(other, Manuskript) and (self.titel, self.jahr) == (other.titel, other.jahr)\n",
    "\n",
    "m1 = Manuskript(\"Evangeliar\", 800, \"Pergament\")\n",
    "m2 = Manuskript(\"Evangeliar\", 800, \"Papier\")\n",
    "m3 = Manuskript(\"Psalter\", 950, \"Pergament\")\n",
    "\n",
    "(m1, m2, m1 == m2, m1 == m3)\n"
   ]
  },
  {
   "cell_type": "markdown",
   "id": "2c27a672",
   "metadata": {},
   "source": [
    "## 8) Mini-Übung\n",
    "**Aufgabe:**\n",
    "Erweitere die Klasse `Manuskript` um eine Methode `alter(basisjahr=2025)`, die das Alter des Manuskripts berechnet.\n",
    "\n",
    "**Tipp:** `return basisjahr - self.jahr`\n",
    "\n",
    "**Teste:**\n",
    "```\n",
    "ms = Manuskript(\"Chronicon\", 1200, \"Pergament\")\n",
    "ms.alter()\n",
    "```"
   ]
  }
 ],
 "metadata": {},
 "nbformat": 4,
 "nbformat_minor": 5
}
