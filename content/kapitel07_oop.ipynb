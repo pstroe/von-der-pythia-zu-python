{
 "cells": [
  {
   "cell_type": "markdown",
   "id": "daddb365",
   "metadata": {},
   "source": [
    "# Kapitel 7 – Klassen & Objekt-orientierte Programmierung (Begleit‑Notebook)\n",
    "\n",
    "Kurz & ausführbar: Demos, Mini‑Aufgaben, Lösungen."
   ]
  },
  {
   "cell_type": "markdown",
   "id": "ab47b899",
   "metadata": {},
   "source": [
    "## 1) Erste Klasse & Instanziierung"
   ]
  },
  {
   "cell_type": "code",
   "execution_count": null,
   "id": "c0fb8000",
   "metadata": {},
   "outputs": [],
   "source": [
    "class Homo:\n",
    "    pass\n",
    "\n",
    "marcus = Homo()\n",
    "tiro = Homo()\n",
    "type(marcus).__name__, type(tiro).__name__\n"
   ]
  },
  {
   "cell_type": "markdown",
   "id": "ff57de42",
   "metadata": {},
   "source": [
    "## 2) `__init__` & Instanzattribute"
   ]
  },
  {
   "cell_type": "code",
   "execution_count": null,
   "id": "64689b92",
   "metadata": {},
   "outputs": [],
   "source": [
    "class Homo:\n",
    "    def __init__(self, name, status):\n",
    "        self.name = name\n",
    "        self.status = status\n",
    "\n",
    "marcus = Homo(\"Marcus\", \"liber\")\n",
    "tiro = Homo(\"Tiro\", \"servus\")\n",
    "(marcus.name, marcus.status), (tiro.name, tiro.status)\n"
   ]
  },
  {
   "cell_type": "markdown",
   "id": "8d204142",
   "metadata": {},
   "source": [
    "## 3) Mutierbarkeit: Strings vs. Objekte"
   ]
  },
  {
   "cell_type": "code",
   "execution_count": null,
   "id": "669cf698",
   "metadata": {},
   "outputs": [],
   "source": [
    "# Strings sind unveränderbar\n",
    "name = \"Marcus\"\n",
    "before = name\n",
    "_ = name.upper()\n",
    "after = name\n",
    "\n",
    "# Objekte sind veränderbar\n",
    "marcus = Homo(\"Marcus\", \"liber\")\n",
    "status_before = marcus.status\n",
    "marcus.status = \"servus\"\n",
    "status_after = marcus.status\n",
    "\n",
    "(before, after, status_before, status_after)\n"
   ]
  },
  {
   "cell_type": "markdown",
   "id": "feed7064",
   "metadata": {},
   "source": [
    "## 4) Klassenattribut, Methode `beschreibe()`"
   ]
  },
  {
   "cell_type": "code",
   "execution_count": null,
   "id": "9604b862",
   "metadata": {},
   "outputs": [],
   "source": [
    "class Homo:\n",
    "    genus = \"Mensch\"\n",
    "    def __init__(self, name, status):\n",
    "        self.name = name\n",
    "        self.status = status\n",
    "    def beschreibe(self):\n",
    "        return f\"{self.name} est {self.status}.\"\n",
    "\n",
    "marcus = Homo(\"Marcus\", \"liber\")\n",
    "tiro = Homo(\"Tiro\", \"servus\")\n",
    "(marcus.beschreibe(), tiro.beschreibe(), marcus.genus == tiro.genus)\n"
   ]
  },
  {
   "cell_type": "markdown",
   "id": "162cc008",
   "metadata": {},
   "source": [
    "## 5) Vererbung & Subklassen"
   ]
  },
  {
   "cell_type": "code",
   "execution_count": null,
   "id": "f25c247a",
   "metadata": {},
   "outputs": [],
   "source": [
    "class Liber(Homo):\n",
    "    def __init__(self, name):\n",
    "        super().__init__(name, \"liber\")\n",
    "    def status(self):\n",
    "        return f\"{self.name} est liber.\"\n",
    "\n",
    "class Servus(Homo):\n",
    "    def __init__(self, name):\n",
    "        super().__init__(name, \"servus\")\n",
    "    def status(self):\n",
    "        return f\"{self.name} est servus.\"\n",
    "\n",
    "marcus = Liber(\"Marcus\")\n",
    "tiro = Servus(\"Tiro\")\n",
    "(marcus.status(), tiro.status(), marcus.genus)\n"
   ]
  },
  {
   "cell_type": "markdown",
   "id": "ac178348",
   "metadata": {},
   "source": [
    "### 5.1) Weitere Ebenen (Ingenui / Libertini → Civis / Latinus / Dediticius)"
   ]
  },
  {
   "cell_type": "code",
   "execution_count": null,
   "id": "2a7f27bd",
   "metadata": {},
   "outputs": [],
   "source": [
    "class Ingenui(Liber):\n",
    "    status_achieved = \"frei geboren\"\n",
    "    def status(self):\n",
    "        return f\"{self.name} est ingenuus (frei geboren).\"\n",
    "\n",
    "class Libertini(Liber):\n",
    "    status_achieved = \"frei gelassen\"\n",
    "    def status(self):\n",
    "        return f\"{self.name} est libertinus (freigelassen).\"\n",
    "\n",
    "class CivisRomanus(Libertini):\n",
    "    def status(self):\n",
    "        return f\"{self.name} est civis Romanus (römischer Bürger).\"\n",
    "\n",
    "class Latinus(Libertini):\n",
    "    def status(self):\n",
    "        return f\"{self.name} est Latinus (mit eingeschränkten Rechten).\"\n",
    "\n",
    "class Dediticius(Libertini):\n",
    "    def status(self):\n",
    "        return f\"{self.name} est dediticius (feindliche Kapitulation).\"\n",
    "\n",
    "a = Ingenui(\"Iulius\")\n",
    "b = CivisRomanus(\"Felix\")\n",
    "c = Latinus(\"Faustus\")\n",
    "d = Dediticius(\"Victor\")\n",
    "[a.status(), b.status(), c.status(), d.status(), b.genus, b.status_achieved]\n"
   ]
  },
  {
   "cell_type": "markdown",
   "id": "5134f442",
   "metadata": {},
   "source": [
    "## 6) Polymorphie"
   ]
  },
  {
   "cell_type": "code",
   "execution_count": null,
   "id": "783a21f2",
   "metadata": {},
   "outputs": [],
   "source": [
    "homines = [Ingenui(\"Marcus\"), Servus(\"Tiro\"),\n",
    "           CivisRomanus(\"Felix\"), Dediticius(\"Victor\")]\n",
    "[ h.status() for h in homines ]\n"
   ]
  },
  {
   "cell_type": "markdown",
   "id": "fdd3e2d4",
   "metadata": {},
   "source": [
    "## 7) Spezielle Methoden (`__repr__`, `__eq__`)"
   ]
  },
  {
   "cell_type": "code",
   "execution_count": null,
   "id": "4e6e4024",
   "metadata": {},
   "outputs": [],
   "source": [
    "class HomoReadable:\n",
    "    def __init__(self, name, status):\n",
    "        self.name = name\n",
    "        self.status = status\n",
    "    def __repr__(self):\n",
    "        return \"HomoReadable(%r, %r)\" % (self.name, self.status)\n",
    "    def __eq__(self, other):\n",
    "        return isinstance(other, HomoReadable) and self.status == other.status\n",
    "\n",
    "x = HomoReadable(\"Marcus\", \"liber\")\n",
    "y = HomoReadable(\"Lucius\", \"liber\")\n",
    "z = HomoReadable(\"Tiro\", \"servus\")\n",
    "x, y, z, (x == y), (x == z)\n"
   ]
  },
  {
   "cell_type": "markdown",
   "id": "d65a2133",
   "metadata": {},
   "source": [
    "## 8) Mini‑Übungen\n",
    "**A)** Ergänze `Servus` um `manumissio(self)`, die den Status in `liber` ändert.\n",
    "\n",
    "**B)** Implementiere eine kleine Inschrift‑Klasse mit Methode `century()`."
   ]
  },
  {
   "cell_type": "code",
   "execution_count": null,
   "id": "37f16a07",
   "metadata": {},
   "outputs": [],
   "source": [
    "# Lösung A\n",
    "class Servus(Homo):\n",
    "    def __init__(self, name):\n",
    "        super().__init__(name, \"servus\")\n",
    "    def status(self):\n",
    "        return f\"{self.name} est servus.\"\n",
    "    def manumissio(self):\n",
    "        self.status = \"liber\"\n",
    "        return f\"{self.name} est nunc liber (freigelassen).\"\n",
    "\n",
    "t = Servus(\"Tiro\")\n",
    "(before, msg, after) = (t.status(), t.manumissio(), t.status())\n",
    "before, msg, after\n"
   ]
  },
  {
   "cell_type": "code",
   "execution_count": null,
   "id": "921a18c8",
   "metadata": {},
   "outputs": [],
   "source": [
    "# Lösung B (sehr vereinfacht)\n",
    "class Inscription:\n",
    "    def __init__(self, material, date_when, text):\n",
    "        self.material = material\n",
    "        self.date_when = date_when\n",
    "        self.text = text\n",
    "\n",
    "    def century(self):\n",
    "        if not self.date_when:\n",
    "            return None\n",
    "        year = self.date_when.split('-')[0]\n",
    "        if year.startswith('-'):\n",
    "            return None  # v.Chr. hier ausgeklammert\n",
    "        y = int(year.lstrip('0') or '0')\n",
    "        return (y // 100) + 1 if y > 0 else None\n",
    "\n",
    "class MarbleInscription(Inscription):\n",
    "    def __init__(self, date_when, text):\n",
    "        super().__init__(\"marble\", date_when, text)\n",
    "\n",
    "class LimestoneInscription(Inscription):\n",
    "    def __init__(self, date_when, text):\n",
    "        super().__init__(\"limestone\", date_when, text)\n",
    "\n",
    "m = MarbleInscription(\"0157\", \"Deae Caelesti ...\")\n",
    "l = LimestoneInscription(\"0200-05-01\", \"Pro salute imperatorum ...\")\n",
    "m.material, m.century(), l.material, l.century()\n"
   ]
  }
 ],
 "metadata": {
  "kernelspec": {
   "display_name": "Python 3 (ipykernel)",
   "language": "python",
   "name": "python3"
  },
  "language_info": {
   "codemirror_mode": {
    "name": "ipython",
    "version": 3
   },
   "file_extension": ".py",
   "mimetype": "text/x-python",
   "name": "python",
   "nbconvert_exporter": "python",
   "pygments_lexer": "ipython3",
   "version": "3.12.2"
  }
 },
 "nbformat": 4,
 "nbformat_minor": 5
}
